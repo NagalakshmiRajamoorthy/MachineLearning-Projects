{
 "cells": [
  {
   "cell_type": "code",
   "execution_count": 1,
   "metadata": {},
   "outputs": [
    {
     "name": "stdout",
     "output_type": "stream",
     "text": [
      "      Person ID  Age  Gender Undergraduate Major  Undergraduate GPA  \\\n",
      "0             1   27    Male                Arts               3.18   \n",
      "1             2   24    Male                Arts               3.03   \n",
      "2             3   33  Female            Business               3.66   \n",
      "3             4   31    Male         Engineering               2.46   \n",
      "4             5   28  Female            Business               2.75   \n",
      "...         ...  ...     ...                 ...                ...   \n",
      "9995       9996   33  Female           Economics               3.55   \n",
      "9996       9997   30  Female            Business               2.48   \n",
      "9997       9998   31  Female           Economics               2.86   \n",
      "9998       9999   22  Female                Arts               2.30   \n",
      "9999      10000   22    Male                Arts               2.86   \n",
      "\n",
      "      Years of Work Experience Current Job Title  Annual Salary (Before MBA)  \\\n",
      "0                            8      Entrepreneur                       90624   \n",
      "1                            4           Analyst                       53576   \n",
      "2                            9          Engineer                       79796   \n",
      "3                            1           Manager                      105956   \n",
      "4                            9      Entrepreneur                       96132   \n",
      "...                        ...               ...                         ...   \n",
      "9995                         5           Analyst                      109172   \n",
      "9996                         5           Manager                       82515   \n",
      "9997                         8           Manager                       34152   \n",
      "9998                         1          Engineer                       61897   \n",
      "9999                         2           Manager                      111499   \n",
      "\n",
      "     Has Management Experience  GRE/GMAT Score  Undergrad University Ranking  \\\n",
      "0                           No             688                           185   \n",
      "1                          Yes             791                           405   \n",
      "2                           No             430                           107   \n",
      "3                           No             356                           257   \n",
      "4                           No             472                           338   \n",
      "...                        ...             ...                           ...   \n",
      "9995                       Yes             524                           100   \n",
      "9996                       Yes             330                           362   \n",
      "9997                       Yes             681                           308   \n",
      "9998                        No             481                           190   \n",
      "9999                        No             710                           226   \n",
      "\n",
      "      Entrepreneurial Interest  Networking Importance MBA Funding Source  \\\n",
      "0                          7.9                    7.6               Loan   \n",
      "1                          3.8                    4.1               Loan   \n",
      "2                          6.7                    5.5        Scholarship   \n",
      "3                          1.0                    5.3               Loan   \n",
      "4                          9.5                    4.9               Loan   \n",
      "...                        ...                    ...                ...   \n",
      "9995                       9.2                    8.0               Loan   \n",
      "9996                       7.4                    8.5        Scholarship   \n",
      "9997                       6.8                    8.8               Loan   \n",
      "9998                       5.7                    7.7        Self-funded   \n",
      "9999                       8.0                    1.7           Employer   \n",
      "\n",
      "     Desired Post-MBA Role  Expected Post-MBA Salary  \\\n",
      "0          Finance Manager                    156165   \n",
      "1          Startup Founder                    165612   \n",
      "2               Consultant                    122248   \n",
      "3               Consultant                    123797   \n",
      "4               Consultant                    197509   \n",
      "...                    ...                       ...   \n",
      "9995       Startup Founder                     69000   \n",
      "9996            Consultant                    131054   \n",
      "9997            Consultant                    100806   \n",
      "9998    Marketing Director                    115872   \n",
      "9999    Marketing Director                    103245   \n",
      "\n",
      "     Location Preference (Post-MBA)     Reason for MBA  \\\n",
      "0                     International   Entrepreneurship   \n",
      "1                     International      Career Growth   \n",
      "2                          Domestic  Skill Enhancement   \n",
      "3                     International   Entrepreneurship   \n",
      "4                          Domestic  Skill Enhancement   \n",
      "...                             ...                ...   \n",
      "9995                  International         Networking   \n",
      "9996                       Domestic   Entrepreneurship   \n",
      "9997                       Domestic         Networking   \n",
      "9998                  International         Networking   \n",
      "9999                       Domestic      Career Growth   \n",
      "\n",
      "     Online vs. On-Campus MBA Decided to Pursue MBA?  \n",
      "0                   On-Campus                    Yes  \n",
      "1                      Online                     No  \n",
      "2                      Online                     No  \n",
      "3                   On-Campus                     No  \n",
      "4                      Online                    Yes  \n",
      "...                       ...                    ...  \n",
      "9995                   Online                    Yes  \n",
      "9996                On-Campus                     No  \n",
      "9997                On-Campus                    Yes  \n",
      "9998                   Online                    Yes  \n",
      "9999                On-Campus                     No  \n",
      "\n",
      "[10000 rows x 20 columns]\n"
     ]
    }
   ],
   "source": [
    "#data loading\n",
    "import pandas as pd\n",
    "a=pd.read_csv(\"./DATASETS/mba_decision_dataset.csv\")\n",
    "print(a)"
   ]
  },
  {
   "cell_type": "code",
   "execution_count": 2,
   "metadata": {},
   "outputs": [
    {
     "name": "stdout",
     "output_type": "stream",
     "text": [
      "   Person ID  Age  Gender Undergraduate Major  Undergraduate GPA  \\\n",
      "0          1   27    Male                Arts               3.18   \n",
      "1          2   24    Male                Arts               3.03   \n",
      "2          3   33  Female            Business               3.66   \n",
      "3          4   31    Male         Engineering               2.46   \n",
      "4          5   28  Female            Business               2.75   \n",
      "\n",
      "   Years of Work Experience Current Job Title  Annual Salary (Before MBA)  \\\n",
      "0                         8      Entrepreneur                       90624   \n",
      "1                         4           Analyst                       53576   \n",
      "2                         9          Engineer                       79796   \n",
      "3                         1           Manager                      105956   \n",
      "4                         9      Entrepreneur                       96132   \n",
      "\n",
      "  Has Management Experience  GRE/GMAT Score  Undergrad University Ranking  \\\n",
      "0                        No             688                           185   \n",
      "1                       Yes             791                           405   \n",
      "2                        No             430                           107   \n",
      "3                        No             356                           257   \n",
      "4                        No             472                           338   \n",
      "\n",
      "   Entrepreneurial Interest  Networking Importance MBA Funding Source  \\\n",
      "0                       7.9                    7.6               Loan   \n",
      "1                       3.8                    4.1               Loan   \n",
      "2                       6.7                    5.5        Scholarship   \n",
      "3                       1.0                    5.3               Loan   \n",
      "4                       9.5                    4.9               Loan   \n",
      "\n",
      "  Desired Post-MBA Role  Expected Post-MBA Salary  \\\n",
      "0       Finance Manager                    156165   \n",
      "1       Startup Founder                    165612   \n",
      "2            Consultant                    122248   \n",
      "3            Consultant                    123797   \n",
      "4            Consultant                    197509   \n",
      "\n",
      "  Location Preference (Post-MBA)     Reason for MBA Online vs. On-Campus MBA  \\\n",
      "0                  International   Entrepreneurship                On-Campus   \n",
      "1                  International      Career Growth                   Online   \n",
      "2                       Domestic  Skill Enhancement                   Online   \n",
      "3                  International   Entrepreneurship                On-Campus   \n",
      "4                       Domestic  Skill Enhancement                   Online   \n",
      "\n",
      "  Decided to Pursue MBA?  \n",
      "0                    Yes  \n",
      "1                     No  \n",
      "2                     No  \n",
      "3                     No  \n",
      "4                    Yes  \n"
     ]
    }
   ],
   "source": [
    "print(a.head())"
   ]
  },
  {
   "cell_type": "code",
   "execution_count": 3,
   "metadata": {},
   "outputs": [
    {
     "name": "stdout",
     "output_type": "stream",
     "text": [
      "      Person ID  Age  Gender Undergraduate Major  Undergraduate GPA  \\\n",
      "9995       9996   33  Female           Economics               3.55   \n",
      "9996       9997   30  Female            Business               2.48   \n",
      "9997       9998   31  Female           Economics               2.86   \n",
      "9998       9999   22  Female                Arts               2.30   \n",
      "9999      10000   22    Male                Arts               2.86   \n",
      "\n",
      "      Years of Work Experience Current Job Title  Annual Salary (Before MBA)  \\\n",
      "9995                         5           Analyst                      109172   \n",
      "9996                         5           Manager                       82515   \n",
      "9997                         8           Manager                       34152   \n",
      "9998                         1          Engineer                       61897   \n",
      "9999                         2           Manager                      111499   \n",
      "\n",
      "     Has Management Experience  GRE/GMAT Score  Undergrad University Ranking  \\\n",
      "9995                       Yes             524                           100   \n",
      "9996                       Yes             330                           362   \n",
      "9997                       Yes             681                           308   \n",
      "9998                        No             481                           190   \n",
      "9999                        No             710                           226   \n",
      "\n",
      "      Entrepreneurial Interest  Networking Importance MBA Funding Source  \\\n",
      "9995                       9.2                    8.0               Loan   \n",
      "9996                       7.4                    8.5        Scholarship   \n",
      "9997                       6.8                    8.8               Loan   \n",
      "9998                       5.7                    7.7        Self-funded   \n",
      "9999                       8.0                    1.7           Employer   \n",
      "\n",
      "     Desired Post-MBA Role  Expected Post-MBA Salary  \\\n",
      "9995       Startup Founder                     69000   \n",
      "9996            Consultant                    131054   \n",
      "9997            Consultant                    100806   \n",
      "9998    Marketing Director                    115872   \n",
      "9999    Marketing Director                    103245   \n",
      "\n",
      "     Location Preference (Post-MBA)    Reason for MBA  \\\n",
      "9995                  International        Networking   \n",
      "9996                       Domestic  Entrepreneurship   \n",
      "9997                       Domestic        Networking   \n",
      "9998                  International        Networking   \n",
      "9999                       Domestic     Career Growth   \n",
      "\n",
      "     Online vs. On-Campus MBA Decided to Pursue MBA?  \n",
      "9995                   Online                    Yes  \n",
      "9996                On-Campus                     No  \n",
      "9997                On-Campus                    Yes  \n",
      "9998                   Online                    Yes  \n",
      "9999                On-Campus                     No  \n"
     ]
    }
   ],
   "source": [
    "print(a.tail())"
   ]
  },
  {
   "cell_type": "code",
   "execution_count": 4,
   "metadata": {},
   "outputs": [
    {
     "data": {
      "text/plain": [
       "Person ID                         0\n",
       "Age                               0\n",
       "Gender                            0\n",
       "Undergraduate Major               0\n",
       "Undergraduate GPA                 0\n",
       "Years of Work Experience          0\n",
       "Current Job Title                 0\n",
       "Annual Salary (Before MBA)        0\n",
       "Has Management Experience         0\n",
       "GRE/GMAT Score                    0\n",
       "Undergrad University Ranking      0\n",
       "Entrepreneurial Interest          0\n",
       "Networking Importance             0\n",
       "MBA Funding Source                0\n",
       "Desired Post-MBA Role             0\n",
       "Expected Post-MBA Salary          0\n",
       "Location Preference (Post-MBA)    0\n",
       "Reason for MBA                    0\n",
       "Online vs. On-Campus MBA          0\n",
       "Decided to Pursue MBA?            0\n",
       "dtype: int64"
      ]
     },
     "execution_count": 4,
     "metadata": {},
     "output_type": "execute_result"
    }
   ],
   "source": [
    "\n",
    "##Checking for null values\n",
    "a.isna().sum()"
   ]
  },
  {
   "cell_type": "code",
   "execution_count": 5,
   "metadata": {},
   "outputs": [
    {
     "data": {
      "text/plain": [
       "[<matplotlib.lines.Line2D at 0x23beac73890>]"
      ]
     },
     "execution_count": 5,
     "metadata": {},
     "output_type": "execute_result"
    },
    {
     "data": {
      "image/png": "[encoded data removed]",
      "text/plain": [
       "<Figure size 640x480 with 1 Axes>"
      ]
     },
     "metadata": {},
     "output_type": "display_data"
    }
   ],
   "source": [
    "from matplotlib import pyplot as plt\n",
    "plt.plot(a[\"Age\"],a[\"Decided to Pursue MBA?\"])"
   ]
  },
  {
   "cell_type": "code",
   "execution_count": 6,
   "metadata": {},
   "outputs": [
    {
     "data": {
      "text/plain": [
       "<BarContainer object of 10000 artists>"
      ]
     },
     "execution_count": 6,
     "metadata": {},
     "output_type": "execute_result"
    },
    {
     "data": {
      "image/png": "[encoded data removed]",
      "text/plain": [
       "<Figure size 640x480 with 1 Axes>"
      ]
     },
     "metadata": {},
     "output_type": "display_data"
    }
   ],
   "source": [
    "plt.bar(a[\"GRE/GMAT Score\"],a[\"Decided to Pursue MBA?\"])"
   ]
  },
  {
   "cell_type": "code",
   "execution_count": 14,
   "metadata": {},
   "outputs": [
    {
     "data": {
      "text/plain": [
       "<matplotlib.collections.PathCollection at 0x268081e8e10>"
      ]
     },
     "execution_count": 14,
     "metadata": {},
     "output_type": "execute_result"
    },
    {
     "data": {
      "image/png": "[encoded data removed]",
      "text/plain": [
       "<Figure size 640x480 with 1 Axes>"
      ]
     },
     "metadata": {},
     "output_type": "display_data"
    }
   ],
   "source": [
    "plt.scatter(a[\"Current Job Title\"], a[\"Decided to Pursue MBA?\"])"
   ]
  },
  {
   "cell_type": "code",
   "execution_count": 7,
   "metadata": {},
   "outputs": [
    {
     "name": "stdout",
     "output_type": "stream",
     "text": [
      "      Person ID  Age  Gender  Undergraduate Major  Undergraduate GPA  \\\n",
      "0             1   27       1                    0               3.18   \n",
      "1             2   24       1                    0               3.03   \n",
      "2             3   33       0                    1               3.66   \n",
      "3             4   31       1                    3               2.46   \n",
      "4             5   28       0                    1               2.75   \n",
      "...         ...  ...     ...                  ...                ...   \n",
      "9995       9996   33       0                    2               3.55   \n",
      "9996       9997   30       0                    1               2.48   \n",
      "9997       9998   31       0                    2               2.86   \n",
      "9998       9999   22       0                    0               2.30   \n",
      "9999      10000   22       1                    0               2.86   \n",
      "\n",
      "      Years of Work Experience  Current Job Title  Annual Salary (Before MBA)  \\\n",
      "0                            8                  3                       90624   \n",
      "1                            4                  0                       53576   \n",
      "2                            9                  2                       79796   \n",
      "3                            1                  4                      105956   \n",
      "4                            9                  3                       96132   \n",
      "...                        ...                ...                         ...   \n",
      "9995                         5                  0                      109172   \n",
      "9996                         5                  4                       82515   \n",
      "9997                         8                  4                       34152   \n",
      "9998                         1                  2                       61897   \n",
      "9999                         2                  4                      111499   \n",
      "\n",
      "      Has Management Experience  GRE/GMAT Score  Undergrad University Ranking  \\\n",
      "0                             0             688                           185   \n",
      "1                             1             791                           405   \n",
      "2                             0             430                           107   \n",
      "3                             0             356                           257   \n",
      "4                             0             472                           338   \n",
      "...                         ...             ...                           ...   \n",
      "9995                          1             524                           100   \n",
      "9996                          1             330                           362   \n",
      "9997                          1             681                           308   \n",
      "9998                          0             481                           190   \n",
      "9999                          0             710                           226   \n",
      "\n",
      "      Entrepreneurial Interest  Networking Importance  MBA Funding Source  \\\n",
      "0                          7.9                    7.6                   1   \n",
      "1                          3.8                    4.1                   1   \n",
      "2                          6.7                    5.5                   2   \n",
      "3                          1.0                    5.3                   1   \n",
      "4                          9.5                    4.9                   1   \n",
      "...                        ...                    ...                 ...   \n",
      "9995                       9.2                    8.0                   1   \n",
      "9996                       7.4                    8.5                   2   \n",
      "9997                       6.8                    8.8                   1   \n",
      "9998                       5.7                    7.7                   3   \n",
      "9999                       8.0                    1.7                   0   \n",
      "\n",
      "      Desired Post-MBA Role  Expected Post-MBA Salary  \\\n",
      "0                         2                    156165   \n",
      "1                         4                    165612   \n",
      "2                         0                    122248   \n",
      "3                         0                    123797   \n",
      "4                         0                    197509   \n",
      "...                     ...                       ...   \n",
      "9995                      4                     69000   \n",
      "9996                      0                    131054   \n",
      "9997                      0                    100806   \n",
      "9998                      3                    115872   \n",
      "9999                      3                    103245   \n",
      "\n",
      "      Location Preference (Post-MBA)  Reason for MBA  \\\n",
      "0                                  1               1   \n",
      "1                                  1               0   \n",
      "2                                  0               3   \n",
      "3                                  1               1   \n",
      "4                                  0               3   \n",
      "...                              ...             ...   \n",
      "9995                               1               2   \n",
      "9996                               0               1   \n",
      "9997                               0               2   \n",
      "9998                               1               2   \n",
      "9999                               0               0   \n",
      "\n",
      "      Online vs. On-Campus MBA  Decided to Pursue MBA?  \n",
      "0                            0                       1  \n",
      "1                            1                       0  \n",
      "2                            1                       0  \n",
      "3                            0                       0  \n",
      "4                            1                       1  \n",
      "...                        ...                     ...  \n",
      "9995                         1                       1  \n",
      "9996                         0                       0  \n",
      "9997                         0                       1  \n",
      "9998                         1                       1  \n",
      "9999                         0                       0  \n",
      "\n",
      "[10000 rows x 20 columns]\n"
     ]
    }
   ],
   "source": [
    "from sklearn.preprocessing import LabelEncoder\n",
    "b=LabelEncoder()\n",
    "a[\"Gender\"]=b.fit_transform(a[\"Gender\"])\n",
    "a[\"Undergraduate Major\"]=b.fit_transform(a[\"Undergraduate Major\"])\n",
    "a[\"Current Job Title\"]=b.fit_transform(a[\"Current Job Title\"])\n",
    "a[\"Has Management Experience\"]=b.fit_transform(a[\"Has Management Experience\"])\n",
    "a[\"MBA Funding Source\"]=b.fit_transform(a[\"MBA Funding Source\"])\n",
    "a[\"Desired Post-MBA Role\"]=b.fit_transform(a[\"Desired Post-MBA Role\"])\n",
    "a[\"Location Preference (Post-MBA)\"]=b.fit_transform(a[\"Location Preference (Post-MBA)\"])\n",
    "a[\"Reason for MBA\"]=b.fit_transform(a[\"Reason for MBA\"])\n",
    "a[\"Online vs. On-Campus MBA\"]=b.fit_transform(a[\"Online vs. On-Campus MBA\"])\n",
    "a[\"Decided to Pursue MBA?\"]=b.fit_transform(a[\"Decided to Pursue MBA?\"])\n",
    "\n",
    "print(a)"
   ]
  },
  {
   "cell_type": "code",
   "execution_count": 9,
   "metadata": {},
   "outputs": [
    {
     "name": "stdout",
     "output_type": "stream",
     "text": [
      "      Person ID  Age  Gender  Undergraduate Major  Undergraduate GPA  \\\n",
      "0             1   27       1                    0               3.18   \n",
      "1             2   24       1                    0               3.03   \n",
      "2             3   33       0                    1               3.66   \n",
      "3             4   31       1                    3               2.46   \n",
      "4             5   28       0                    1               2.75   \n",
      "...         ...  ...     ...                  ...                ...   \n",
      "9995       9996   33       0                    2               3.55   \n",
      "9996       9997   30       0                    1               2.48   \n",
      "9997       9998   31       0                    2               2.86   \n",
      "9998       9999   22       0                    0               2.30   \n",
      "9999      10000   22       1                    0               2.86   \n",
      "\n",
      "      Years of Work Experience  Current Job Title  Annual Salary (Before MBA)  \\\n",
      "0                            8                  3                       90624   \n",
      "1                            4                  0                       53576   \n",
      "2                            9                  2                       79796   \n",
      "3                            1                  4                      105956   \n",
      "4                            9                  3                       96132   \n",
      "...                        ...                ...                         ...   \n",
      "9995                         5                  0                      109172   \n",
      "9996                         5                  4                       82515   \n",
      "9997                         8                  4                       34152   \n",
      "9998                         1                  2                       61897   \n",
      "9999                         2                  4                      111499   \n",
      "\n",
      "      Has Management Experience  GRE/GMAT Score  Undergrad University Ranking  \\\n",
      "0                             0             688                           185   \n",
      "1                             1             791                           405   \n",
      "2                             0             430                           107   \n",
      "3                             0             356                           257   \n",
      "4                             0             472                           338   \n",
      "...                         ...             ...                           ...   \n",
      "9995                          1             524                           100   \n",
      "9996                          1             330                           362   \n",
      "9997                          1             681                           308   \n",
      "9998                          0             481                           190   \n",
      "9999                          0             710                           226   \n",
      "\n",
      "      Entrepreneurial Interest  Networking Importance  MBA Funding Source  \\\n",
      "0                          7.9                    7.6                   1   \n",
      "1                          3.8                    4.1                   1   \n",
      "2                          6.7                    5.5                   2   \n",
      "3                          1.0                    5.3                   1   \n",
      "4                          9.5                    4.9                   1   \n",
      "...                        ...                    ...                 ...   \n",
      "9995                       9.2                    8.0                   1   \n",
      "9996                       7.4                    8.5                   2   \n",
      "9997                       6.8                    8.8                   1   \n",
      "9998                       5.7                    7.7                   3   \n",
      "9999                       8.0                    1.7                   0   \n",
      "\n",
      "      Desired Post-MBA Role  Expected Post-MBA Salary  \\\n",
      "0                         2                    156165   \n",
      "1                         4                    165612   \n",
      "2                         0                    122248   \n",
      "3                         0                    123797   \n",
      "4                         0                    197509   \n",
      "...                     ...                       ...   \n",
      "9995                      4                     69000   \n",
      "9996                      0                    131054   \n",
      "9997                      0                    100806   \n",
      "9998                      3                    115872   \n",
      "9999                      3                    103245   \n",
      "\n",
      "      Location Preference (Post-MBA)  Reason for MBA  Online vs. On-Campus MBA  \n",
      "0                                  1               1                         0  \n",
      "1                                  1               0                         1  \n",
      "2                                  0               3                         1  \n",
      "3                                  1               1                         0  \n",
      "4                                  0               3                         1  \n",
      "...                              ...             ...                       ...  \n",
      "9995                               1               2                         1  \n",
      "9996                               0               1                         0  \n",
      "9997                               0               2                         0  \n",
      "9998                               1               2                         1  \n",
      "9999                               0               0                         0  \n",
      "\n",
      "[10000 rows x 19 columns]\n"
     ]
    }
   ],
   "source": [
    "#data split\n",
    "x=a.iloc[:,:-1]\n",
    "y=a[\"Decided to Pursue MBA?\"]\n",
    "print(x)"
   ]
  },
  {
   "cell_type": "code",
   "execution_count": 10,
   "metadata": {},
   "outputs": [
    {
     "name": "stdout",
     "output_type": "stream",
     "text": [
      "0       1\n",
      "1       0\n",
      "2       0\n",
      "3       0\n",
      "4       1\n",
      "       ..\n",
      "9995    1\n",
      "9996    0\n",
      "9997    1\n",
      "9998    1\n",
      "9999    0\n",
      "Name: Decided to Pursue MBA?, Length: 10000, dtype: int64\n"
     ]
    }
   ],
   "source": [
    "print(y)"
   ]
  },
  {
   "cell_type": "code",
   "execution_count": 11,
   "metadata": {},
   "outputs": [],
   "source": [
    "from sklearn.model_selection import train_test_split\n",
    "x_train,x_test,y_train,y_test=train_test_split(x,y,test_size=0.2)"
   ]
  },
  {
   "cell_type": "code",
   "execution_count": 12,
   "metadata": {},
   "outputs": [
    {
     "name": "stdout",
     "output_type": "stream",
     "text": [
      "      Person ID  Age  Gender  Undergraduate Major  Undergraduate GPA  \\\n",
      "9492       9493   34       1                    2               2.00   \n",
      "2440       2441   25       1                    0               3.91   \n",
      "9107       9108   29       0                    3               2.40   \n",
      "6252       6253   34       1                    2               2.84   \n",
      "6441       6442   21       2                    1               3.85   \n",
      "...         ...  ...     ...                  ...                ...   \n",
      "1175       1176   28       1                    4               3.99   \n",
      "3546       3547   22       1                    2               3.40   \n",
      "8800       8801   27       0                    4               2.52   \n",
      "9054       9055   25       1                    1               3.60   \n",
      "1731       1732   29       1                    3               3.12   \n",
      "\n",
      "      Years of Work Experience  Current Job Title  Annual Salary (Before MBA)  \\\n",
      "9492                         6                  2                       41416   \n",
      "2440                         4                  2                       39910   \n",
      "9107                         1                  4                       90844   \n",
      "6252                         0                  4                      109456   \n",
      "6441                         7                  1                       64511   \n",
      "...                        ...                ...                         ...   \n",
      "1175                         7                  4                       52891   \n",
      "3546                         9                  1                      101272   \n",
      "8800                         2                  1                       96202   \n",
      "9054                         0                  1                       72488   \n",
      "1731                         2                  1                       30046   \n",
      "\n",
      "      Has Management Experience  GRE/GMAT Score  Undergrad University Ranking  \\\n",
      "9492                          0             348                           477   \n",
      "2440                          0             306                           305   \n",
      "9107                          1             279                           190   \n",
      "6252                          0             767                            28   \n",
      "6441                          1             414                            80   \n",
      "...                         ...             ...                           ...   \n",
      "1175                          0             593                             7   \n",
      "3546                          1             606                           355   \n",
      "8800                          1             349                           369   \n",
      "9054                          0             374                           120   \n",
      "1731                          0             265                           190   \n",
      "\n",
      "      Entrepreneurial Interest  Networking Importance  MBA Funding Source  \\\n",
      "9492                       9.3                    9.7                   1   \n",
      "2440                       4.2                    2.6                   3   \n",
      "9107                       2.0                    6.3                   3   \n",
      "6252                       6.3                    9.7                   3   \n",
      "6441                       3.8                    4.7                   2   \n",
      "...                        ...                    ...                 ...   \n",
      "1175                       9.5                   10.0                   0   \n",
      "3546                       5.8                    7.0                   1   \n",
      "8800                       6.5                    2.4                   0   \n",
      "9054                       7.8                    3.7                   0   \n",
      "1731                       1.1                    1.3                   1   \n",
      "\n",
      "      Desired Post-MBA Role  Expected Post-MBA Salary  \\\n",
      "9492                      4                    139223   \n",
      "2440                      2                    123367   \n",
      "9107                      4                    157039   \n",
      "6252                      2                     99185   \n",
      "6441                      0                    107514   \n",
      "...                     ...                       ...   \n",
      "1175                      2                    170707   \n",
      "3546                      1                    106744   \n",
      "8800                      1                    141226   \n",
      "9054                      4                    153372   \n",
      "1731                      3                    161539   \n",
      "\n",
      "      Location Preference (Post-MBA)  Reason for MBA  Online vs. On-Campus MBA  \n",
      "9492                               0               3                         1  \n",
      "2440                               0               2                         0  \n",
      "9107                               0               1                         1  \n",
      "6252                               1               1                         1  \n",
      "6441                               1               1                         1  \n",
      "...                              ...             ...                       ...  \n",
      "1175                               1               1                         1  \n",
      "3546                               0               2                         0  \n",
      "8800                               1               0                         0  \n",
      "9054                               1               1                         0  \n",
      "1731                               0               1                         1  \n",
      "\n",
      "[8000 rows x 19 columns]\n"
     ]
    }
   ],
   "source": [
    "print(x_train)"
   ]
  },
  {
   "cell_type": "code",
   "execution_count": 13,
   "metadata": {},
   "outputs": [
    {
     "name": "stdout",
     "output_type": "stream",
     "text": [
      "9492    1\n",
      "2440    0\n",
      "9107    0\n",
      "6252    1\n",
      "6441    0\n",
      "       ..\n",
      "1175    1\n",
      "3546    0\n",
      "8800    0\n",
      "9054    0\n",
      "1731    1\n",
      "Name: Decided to Pursue MBA?, Length: 8000, dtype: int64\n"
     ]
    }
   ],
   "source": [
    "print(y_train)"
   ]
  },
  {
   "cell_type": "code",
   "execution_count": 14,
   "metadata": {},
   "outputs": [
    {
     "name": "stdout",
     "output_type": "stream",
     "text": [
      "      Person ID  Age  Gender  Undergraduate Major  Undergraduate GPA  \\\n",
      "4479       4480   28       0                    3               2.95   \n",
      "3814       3815   31       0                    3               3.32   \n",
      "6807       6808   28       2                    1               3.15   \n",
      "4316       4317   31       1                    4               3.90   \n",
      "943         944   33       0                    2               3.00   \n",
      "...         ...  ...     ...                  ...                ...   \n",
      "4951       4952   25       0                    0               3.71   \n",
      "2314       2315   29       0                    2               3.48   \n",
      "2521       2522   27       1                    4               2.81   \n",
      "3235       3236   31       0                    0               3.07   \n",
      "8519       8520   22       1                    4               2.19   \n",
      "\n",
      "      Years of Work Experience  Current Job Title  Annual Salary (Before MBA)  \\\n",
      "4479                         9                  3                       39157   \n",
      "3814                         1                  4                       47360   \n",
      "6807                         5                  3                       85705   \n",
      "4316                         9                  0                       45273   \n",
      "943                          6                  2                       42291   \n",
      "...                        ...                ...                         ...   \n",
      "4951                         2                  2                       86796   \n",
      "2314                         3                  3                       88812   \n",
      "2521                         1                  4                       61010   \n",
      "3235                         4                  2                      118915   \n",
      "8519                         9                  2                      117800   \n",
      "\n",
      "      Has Management Experience  GRE/GMAT Score  Undergrad University Ranking  \\\n",
      "4479                          0             654                           498   \n",
      "3814                          1             290                           348   \n",
      "6807                          0             765                           382   \n",
      "4316                          0             796                           144   \n",
      "943                           0             632                           412   \n",
      "...                         ...             ...                           ...   \n",
      "4951                          1             566                           496   \n",
      "2314                          0             608                           252   \n",
      "2521                          0             687                           376   \n",
      "3235                          0             677                            83   \n",
      "8519                          0             440                           260   \n",
      "\n",
      "      Entrepreneurial Interest  Networking Importance  MBA Funding Source  \\\n",
      "4479                       1.8                    9.3                   0   \n",
      "3814                       4.1                    1.4                   0   \n",
      "6807                       6.5                    5.8                   0   \n",
      "4316                       4.2                    4.2                   3   \n",
      "943                        2.1                    7.5                   3   \n",
      "...                        ...                    ...                 ...   \n",
      "4951                       4.8                    5.7                   3   \n",
      "2314                       9.1                    5.7                   2   \n",
      "2521                       8.7                    1.4                   1   \n",
      "3235                       5.0                    1.4                   3   \n",
      "8519                       6.1                    9.7                   1   \n",
      "\n",
      "      Desired Post-MBA Role  Expected Post-MBA Salary  \\\n",
      "4479                      3                    140813   \n",
      "3814                      4                     73133   \n",
      "6807                      0                    134217   \n",
      "4316                      0                    171326   \n",
      "943                       4                    184967   \n",
      "...                     ...                       ...   \n",
      "4951                      3                    120148   \n",
      "2314                      2                    172704   \n",
      "2521                      1                    125266   \n",
      "3235                      3                    148521   \n",
      "8519                      3                     99944   \n",
      "\n",
      "      Location Preference (Post-MBA)  Reason for MBA  Online vs. On-Campus MBA  \n",
      "4479                               1               0                         1  \n",
      "3814                               0               2                         0  \n",
      "6807                               0               2                         1  \n",
      "4316                               0               2                         0  \n",
      "943                                0               2                         0  \n",
      "...                              ...             ...                       ...  \n",
      "4951                               1               2                         1  \n",
      "2314                               1               3                         1  \n",
      "2521                               1               0                         1  \n",
      "3235                               1               2                         0  \n",
      "8519                               0               3                         1  \n",
      "\n",
      "[2000 rows x 19 columns]\n"
     ]
    }
   ],
   "source": [
    "print(x_test)"
   ]
  },
  {
   "cell_type": "code",
   "execution_count": 15,
   "metadata": {},
   "outputs": [
    {
     "name": "stdout",
     "output_type": "stream",
     "text": [
      "4479    0\n",
      "3814    0\n",
      "6807    0\n",
      "4316    1\n",
      "943     1\n",
      "       ..\n",
      "4951    0\n",
      "2314    1\n",
      "2521    1\n",
      "3235    1\n",
      "8519    1\n",
      "Name: Decided to Pursue MBA?, Length: 2000, dtype: int64\n"
     ]
    }
   ],
   "source": [
    "print(y_test)"
   ]
  },
  {
   "cell_type": "code",
   "execution_count": 16,
   "metadata": {},
   "outputs": [
    {
     "name": "stderr",
     "output_type": "stream",
     "text": [
      "C:\\Users\\ADMIN\\AppData\\Local\\Packages\\PythonSoftwareFoundation.Python.3.11_qbz5n2kfra8p0\\LocalCache\\local-packages\\Python311\\site-packages\\sklearn\\linear_model\\_logistic.py:465: ConvergenceWarning: lbfgs failed to converge (status=1):\n",
      "STOP: TOTAL NO. OF ITERATIONS REACHED LIMIT.\n",
      "\n",
      "Increase the number of iterations (max_iter) or scale the data as shown in:\n",
      "    https://scikit-learn.org/stable/modules/preprocessing.html\n",
      "Please also refer to the documentation for alternative solver options:\n",
      "    https://scikit-learn.org/stable/modules/linear_model.html#logistic-regression\n",
      "  n_iter_i = _check_optimize_result(\n"
     ]
    }
   ],
   "source": [
    "from sklearn.linear_model import LogisticRegression\n",
    "model=LogisticRegression()\n",
    "model.fit(x_train,y_train)\n",
    "ypred=model.predict(x_test)"
   ]
  },
  {
   "cell_type": "code",
   "execution_count": 17,
   "metadata": {},
   "outputs": [
    {
     "name": "stdout",
     "output_type": "stream",
     "text": [
      "0.587\n"
     ]
    }
   ],
   "source": [
    "from sklearn.metrics import accuracy_score\n",
    "print(accuracy_score(y_test,ypred))"
   ]
  },
  {
   "cell_type": "code",
   "execution_count": 18,
   "metadata": {},
   "outputs": [
    {
     "name": "stdout",
     "output_type": "stream",
     "text": [
      "[[   0  826]\n",
      " [   0 1174]]\n"
     ]
    }
   ],
   "source": [
    "from sklearn.metrics import confusion_matrix\n",
    "print(confusion_matrix(y_test,ypred))"
   ]
  },
  {
   "cell_type": "code",
   "execution_count": 19,
   "metadata": {},
   "outputs": [],
   "source": [
    "from sklearn.tree import DecisionTreeClassifier\n",
    "b=DecisionTreeClassifier()\n",
    "b.fit(x_train,y_train)\n",
    "ypred=b.predict(x_test)"
   ]
  },
  {
   "cell_type": "code",
   "execution_count": 20,
   "metadata": {},
   "outputs": [
    {
     "name": "stdout",
     "output_type": "stream",
     "text": [
      "0.5135\n"
     ]
    }
   ],
   "source": [
    "from sklearn.metrics import accuracy_score\n",
    "print(accuracy_score(y_test,ypred))"
   ]
  },
  {
   "cell_type": "code",
   "execution_count": 21,
   "metadata": {},
   "outputs": [
    {
     "name": "stdout",
     "output_type": "stream",
     "text": [
      "[[356 470]\n",
      " [503 671]]\n"
     ]
    }
   ],
   "source": [
    "from sklearn.metrics import confusion_matrix\n",
    "print(confusion_matrix(y_test,ypred))"
   ]
  },
  {
   "cell_type": "code",
   "execution_count": 22,
   "metadata": {},
   "outputs": [],
   "source": [
    "from sklearn.ensemble import RandomForestClassifier\n",
    "b=RandomForestClassifier()\n",
    "b.fit(x_train,y_train)\n",
    "ypred=b.predict(x_test)"
   ]
  },
  {
   "cell_type": "code",
   "execution_count": 23,
   "metadata": {},
   "outputs": [
    {
     "name": "stdout",
     "output_type": "stream",
     "text": [
      "0.566\n"
     ]
    }
   ],
   "source": [
    "from sklearn.metrics import accuracy_score\n",
    "print(accuracy_score(y_test,ypred))"
   ]
  },
  {
   "cell_type": "code",
   "execution_count": 24,
   "metadata": {},
   "outputs": [
    {
     "name": "stdout",
     "output_type": "stream",
     "text": [
      "[[ 105  721]\n",
      " [ 147 1027]]\n"
     ]
    }
   ],
   "source": [
    "from sklearn.metrics import confusion_matrix\n",
    "print(confusion_matrix(y_test,ypred))"
   ]
  },
  {
   "cell_type": "code",
   "execution_count": 25,
   "metadata": {},
   "outputs": [
    {
     "name": "stdout",
     "output_type": "stream",
     "text": [
      "              precision    recall  f1-score   support\n",
      "\n",
      "           0       0.42      0.13      0.19       826\n",
      "           1       0.59      0.87      0.70      1174\n",
      "\n",
      "    accuracy                           0.57      2000\n",
      "   macro avg       0.50      0.50      0.45      2000\n",
      "weighted avg       0.52      0.57      0.49      2000\n",
      "\n"
     ]
    }
   ],
   "source": [
    "from sklearn.metrics import classification_report\n",
    "print(classification_report(y_test,ypred))"
   ]
  }
 ],
 "metadata": {
  "kernelspec": {
   "display_name": "Python 3",
   "language": "python",
   "name": "python3"
  },
  "language_info": {
   "codemirror_mode": {
    "name": "ipython",
    "version": 3
   },
   "file_extension": ".py",
   "mimetype": "text/x-python",
   "name": "python",
   "nbconvert_exporter": "python",
   "pygments_lexer": "ipython3",
   "version": "3.11.9"
  }
 },
 "nbformat": 4,
 "nbformat_minor": 2
}
