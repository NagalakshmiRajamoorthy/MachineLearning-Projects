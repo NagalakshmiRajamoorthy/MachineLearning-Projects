{
  "nbformat": 4,
  "nbformat_minor": 0,
  "metadata": {
    "colab": {
      "provenance": []
    },
    "kernelspec": {
      "name": "python3",
      "display_name": "Python 3"
    },
    "language_info": {
      "name": "python"
    }
  },
  "cells": [
    {
      "cell_type": "code",
      "execution_count": 2,
      "metadata": {
        "colab": {
          "base_uri": "https://localhost:8080/"
        },
        "id": "fpSUV9n66xk-",
        "outputId": "a3c6848b-26d9-438f-d781-92e01ce30af0"
      },
      "outputs": [
        {
          "output_type": "stream",
          "name": "stdout",
          "text": [
            "1D Array: [1 2 3 4 5]\n"
          ]
        }
      ],
      "source": [
        "import numpy as np\n",
        "\n",
        "# Creating a 1D array from a list\n",
        "array_1d = np.array([1, 2, 3, 4, 5])\n",
        "print(\"1D Array:\", array_1d)"
      ]
    },
    {
      "cell_type": "code",
      "source": [
        "# Creating a 2D array (matrix)\n",
        "array_2d = np.array([[1, 2, 3], [4, 5, 6]])\n",
        "print(\"2D Array:\\n\", array_2d)"
      ],
      "metadata": {
        "colab": {
          "base_uri": "https://localhost:8080/"
        },
        "id": "pi4rrDiT7GZI",
        "outputId": "87f40a89-975b-4bf1-b3a2-5361afa7538d"
      },
      "execution_count": 3,
      "outputs": [
        {
          "output_type": "stream",
          "name": "stdout",
          "text": [
            "2D Array:\n",
            " [[1 2 3]\n",
            " [4 5 6]]\n"
          ]
        }
      ]
    },
    {
      "cell_type": "code",
      "source": [
        " #Creating an array of zeros\n",
        "zeros_array = np.zeros((2, 3))  # 2 rows, 3 columns\n",
        "print(\"Array of Zeros:\\n\", zeros_array)"
      ],
      "metadata": {
        "colab": {
          "base_uri": "https://localhost:8080/"
        },
        "id": "wgyEbbYp7Sqn",
        "outputId": "df6bfe46-5d92-4383-f9a3-dcc4f7ee0397"
      },
      "execution_count": 5,
      "outputs": [
        {
          "output_type": "stream",
          "name": "stdout",
          "text": [
            "Array of Zeros:\n",
            " [[0. 0. 0.]\n",
            " [0. 0. 0.]]\n"
          ]
        }
      ]
    },
    {
      "cell_type": "code",
      "source": [
        "# Creating an array of ones\n",
        "ones_array = np.ones((3, 2))  # 3 rows, 2 columns\n",
        "print(\"Array of Ones:\\n\", ones_array)"
      ],
      "metadata": {
        "colab": {
          "base_uri": "https://localhost:8080/"
        },
        "id": "RsjizTNG7bWD",
        "outputId": "4904d2c4-7644-47bd-e5f1-677ccf4a398e"
      },
      "execution_count": 6,
      "outputs": [
        {
          "output_type": "stream",
          "name": "stdout",
          "text": [
            "Array of Ones:\n",
            " [[1. 1.]\n",
            " [1. 1.]\n",
            " [1. 1.]]\n"
          ]
        }
      ]
    },
    {
      "cell_type": "code",
      "source": [
        "# Creating an array with a range of values\n",
        "range_array = np.arange(0, 10, 2)  # Start, stop, step\n",
        "print(\"Range Array:\", range_array)"
      ],
      "metadata": {
        "colab": {
          "base_uri": "https://localhost:8080/"
        },
        "id": "PjtfC6ho7d-3",
        "outputId": "80ee4f8a-26f5-4a38-8b9b-3207b6b17fae"
      },
      "execution_count": 7,
      "outputs": [
        {
          "output_type": "stream",
          "name": "stdout",
          "text": [
            "Range Array: [0 2 4 6 8]\n"
          ]
        }
      ]
    },
    {
      "cell_type": "code",
      "source": [
        "#2.Array Indexing\n",
        "\n",
        "\n",
        "# Accessing elements\n",
        "print(\"First element of 1D array:\", array_1d[0])\n",
        "print(\"Element at (1, 2) in 2D array:\", array_2d[1, 2])  # Row 1, Column 2"
      ],
      "metadata": {
        "colab": {
          "base_uri": "https://localhost:8080/"
        },
        "id": "fiRRMOAh72v8",
        "outputId": "9394a518-711e-4568-b514-3354a0867549"
      },
      "execution_count": 9,
      "outputs": [
        {
          "output_type": "stream",
          "name": "stdout",
          "text": [
            "First element of 1D array: 1\n",
            "Element at (1, 2) in 2D array: 6\n"
          ]
        }
      ]
    },
    {
      "cell_type": "code",
      "source": [
        "# Slicing arrays\n",
        "print(\"Slicing 1D array (first three elements):\", array_1d[:3])\n",
        "print(\"Slicing 2D array (first row):\", array_2d[0, :])\n",
        "print(\"Slicing 2D array (first two rows, first two columns):\\n\", array_2d[:2, :2])"
      ],
      "metadata": {
        "colab": {
          "base_uri": "https://localhost:8080/"
        },
        "id": "NGB79xIk8U18",
        "outputId": "db5d33db-71e0-49eb-ff9c-b60973bc35ea"
      },
      "execution_count": 10,
      "outputs": [
        {
          "output_type": "stream",
          "name": "stdout",
          "text": [
            "Slicing 1D array (first three elements): [1 2 3]\n",
            "Slicing 2D array (first row): [1 2 3]\n",
            "Slicing 2D array (first two rows, first two columns):\n",
            " [[1 2]\n",
            " [4 5]]\n"
          ]
        }
      ]
    },
    {
      "cell_type": "code",
      "source": [
        "#Mathematical Operations\n",
        "\n",
        "\n",
        "# Element-wise operations\n",
        "array_a = np.array([1, 2, 3])\n",
        "array_b = np.array([4, 5, 6])"
      ],
      "metadata": {
        "id": "PL-dlOL88Xtn"
      },
      "execution_count": 11,
      "outputs": []
    },
    {
      "cell_type": "code",
      "source": [
        "# Addition\n",
        "sum_array = array_a + array_b\n",
        "print(\"Sum of Arrays:\", sum_array)"
      ],
      "metadata": {
        "colab": {
          "base_uri": "https://localhost:8080/"
        },
        "id": "WsUKYflE9E7S",
        "outputId": "216f2dd3-29b7-4fe4-83a0-1dba4b2ca742"
      },
      "execution_count": 12,
      "outputs": [
        {
          "output_type": "stream",
          "name": "stdout",
          "text": [
            "Sum of Arrays: [5 7 9]\n"
          ]
        }
      ]
    },
    {
      "cell_type": "code",
      "source": [
        "# Multiplication\n",
        "product_array = array_a * array_b\n",
        "print(\"Product of Arrays:\", product_array)"
      ],
      "metadata": {
        "colab": {
          "base_uri": "https://localhost:8080/"
        },
        "id": "pXPvFyTT9MkP",
        "outputId": "04a7ea74-fdd9-43c1-d8d8-ebfa48c9c336"
      },
      "execution_count": 13,
      "outputs": [
        {
          "output_type": "stream",
          "name": "stdout",
          "text": [
            "Product of Arrays: [ 4 10 18]\n"
          ]
        }
      ]
    },
    {
      "cell_type": "code",
      "source": [
        "# Universal functions (ufuncs)\n",
        "squared_array = np.square(array_a)\n",
        "print(\"Squared Array:\", squared_array)"
      ],
      "metadata": {
        "colab": {
          "base_uri": "https://localhost:8080/"
        },
        "id": "J8yZVzlt9RQi",
        "outputId": "d984ceb7-b2c5-4d4b-9f84-470a6e3ef56e"
      },
      "execution_count": 14,
      "outputs": [
        {
          "output_type": "stream",
          "name": "stdout",
          "text": [
            "Squared Array: [1 4 9]\n"
          ]
        }
      ]
    },
    {
      "cell_type": "code",
      "source": [
        "# Statistical operations\n",
        "mean_value = np.mean(array_a)\n",
        "print(\"Mean of Array A:\", mean_value)"
      ],
      "metadata": {
        "colab": {
          "base_uri": "https://localhost:8080/"
        },
        "id": "4XmayvNP9s0U",
        "outputId": "4ce0efe4-4583-4333-f2ba-3391bf795ac1"
      },
      "execution_count": 15,
      "outputs": [
        {
          "output_type": "stream",
          "name": "stdout",
          "text": [
            "Mean of Array A: 2.0\n"
          ]
        }
      ]
    },
    {
      "cell_type": "code",
      "source": [
        "# Standard deviation\n",
        "std_dev = np.std(array_a)\n",
        "print(\"Standard Deviation of Array A:\", std_dev)"
      ],
      "metadata": {
        "colab": {
          "base_uri": "https://localhost:8080/"
        },
        "id": "sGTJ0Eqh9_6Z",
        "outputId": "f1643569-c7c5-41f0-e1bf-f693284c1bf9"
      },
      "execution_count": 16,
      "outputs": [
        {
          "output_type": "stream",
          "name": "stdout",
          "text": [
            "Standard Deviation of Array A: 0.816496580927726\n"
          ]
        }
      ]
    },
    {
      "cell_type": "code",
      "source": [
        "# Reshaping an array\n",
        "reshaped_array = np.arange(12).reshape(3, 4)  # 3 rows, 4 columns\n",
        "print(\"Reshaped Array:\\n\", reshaped_array)"
      ],
      "metadata": {
        "colab": {
          "base_uri": "https://localhost:8080/"
        },
        "id": "-adS6lc4-D1X",
        "outputId": "8b2d5d65-48f8-47ab-8f9c-3be487d0fdcd"
      },
      "execution_count": 17,
      "outputs": [
        {
          "output_type": "stream",
          "name": "stdout",
          "text": [
            "Reshaped Array:\n",
            " [[ 0  1  2  3]\n",
            " [ 4  5  6  7]\n",
            " [ 8  9 10 11]]\n"
          ]
        }
      ]
    },
    {
      "cell_type": "code",
      "source": [
        "# Concatenating arrays\n",
        "array_c = np.array([[7, 8, 9,10]])\n",
        "concatenated_array = np.concatenate((reshaped_array, array_c), axis=0)  # Concatenate along rows\n",
        "print(\"Concatenated Array:\\n\", concatenated_array)"
      ],
      "metadata": {
        "colab": {
          "base_uri": "https://localhost:8080/"
        },
        "id": "OYYghM0K-JKM",
        "outputId": "4a327d3b-815f-40b4-9cf5-99b3bd87eae6"
      },
      "execution_count": 19,
      "outputs": [
        {
          "output_type": "stream",
          "name": "stdout",
          "text": [
            "Concatenated Array:\n",
            " [[ 0  1  2  3]\n",
            " [ 4  5  6  7]\n",
            " [ 8  9 10 11]\n",
            " [ 7  8  9 10]]\n"
          ]
        }
      ]
    },
    {
      "cell_type": "code",
      "source": [
        "# Broadcasting example\n",
        "array_x = np.array([[1, 2, 3], [4, 5, 6]])\n",
        "array_y = np.array([10, 20, 30])  # 1D array\n",
        "\n",
        "# Adding a 1D array to a 2D array\n",
        "broadcasted_sum = array_x + array_y\n",
        "print(\"Broadcasted Sum:\\n\", broadcasted_sum)\n"
      ],
      "metadata": {
        "colab": {
          "base_uri": "https://localhost:8080/"
        },
        "id": "O4Q-uR12-4ez",
        "outputId": "9b229a3d-4c91-4ce3-c220-d9f0aed57d25"
      },
      "execution_count": 20,
      "outputs": [
        {
          "output_type": "stream",
          "name": "stdout",
          "text": [
            "Broadcasted Sum:\n",
            " [[11 22 33]\n",
            " [14 25 36]]\n"
          ]
        }
      ]
    },
    {
      "cell_type": "code",
      "source": [
        "# Saving an array to a text file\n",
        "np.savetxt('array_data.txt', array_1d)\n",
        "\n",
        "# Loading an array from a text file\n",
        "loaded_array = np.loadtxt('array_data.txt')\n",
        "print(\"Loaded Array from File:\", loaded_array)\n"
      ],
      "metadata": {
        "colab": {
          "base_uri": "https://localhost:8080/"
        },
        "id": "nMQquwBS-9Xj",
        "outputId": "42b5c672-b894-4294-d680-7057ceb7f95f"
      },
      "execution_count": 21,
      "outputs": [
        {
          "output_type": "stream",
          "name": "stdout",
          "text": [
            "Loaded Array from File: [1. 2. 3. 4. 5.]\n"
          ]
        }
      ]
    }
  ]
}