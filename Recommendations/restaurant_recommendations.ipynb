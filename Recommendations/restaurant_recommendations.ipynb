{
  "nbformat": 4,
  "nbformat_minor": 0,
  "metadata": {
    "colab": {
      "provenance": []
    },
    "kernelspec": {
      "name": "python3",
      "display_name": "Python 3"
    },
    "language_info": {
      "name": "python"
    }
  },
  "cells": [
    {
      "cell_type": "code",
      "execution_count": 5,
      "metadata": {
        "id": "DGYzM6aVDfD1"
      },
      "outputs": [],
      "source": [
        "import pandas as pd\n",
        "from sklearn.feature_extraction.text import TfidfVectorizer\n",
        "from sklearn.metrics.pairwise import cosine_similarity\n",
        "# Sample academy dataset\n",
        "restaurant_data = {\n",
        "  \"names\": [\n",
        "    \"The Banyan Restaurant\",\n",
        "    \"Sree Sabarees\",\n",
        "    \"Murugan Idli Shop\",\n",
        "    \"Kumar Mess\",\n",
        "    \"Anjappar Chettinad Restaurant\",\n",
        "    \"Bistro 1427\",\n",
        "    \"Surya Rooftop Restaurant\",\n",
        "    \"Ahaaram Multicuisine Restaurant\",\n",
        "    \"Madurai Mapillai Virundhu\",\n",
        "    \"Zaitoon Restaurant\"\n",
        "  ],\n",
        "  \"descriptions\": [\n",
        "    \"Located in Heritage Madurai, it offers a mix of South Indian and multi-cuisine dishes in a beautiful ambiance.\",\n",
        "    \"A highly-rated vegetarian restaurant, famous for its idlis, dosas, and traditional South Indian meals.\",\n",
        "    \"One of the best places for soft idlis, delicious chutneys, and crispy dosas in Madurai.\",\n",
        "    \"A go-to place for authentic non-veg dishes like Mutton Kari Dosa, Nalli Curry, and spicy Chettinad flavors.\",\n",
        "    \"Renowned for its spicy and flavorful Chettinad cuisine, serving delicious chicken and mutton dishes.\",\n",
        "    \"A stylish and modern restaurant offering a mix of Indian, Continental, and Chinese dishes.\",\n",
        "    \"A scenic restaurant offering a panoramic view of Madurai city along with North Indian and Chinese cuisine.\",\n",
        "    \"Known for its elaborate South Indian thali meals and a variety of multi-cuisine options.\",\n",
        "    \"Famous for its unique fusion of South and North Indian flavors, featuring signature dishes like Koth\",\n",
        "    \"Multi-cuisine dishes in a beautiful ambiance.\"\n",
        "  ]\n",
        "}\n"
      ]
    },
    {
      "cell_type": "code",
      "source": [
        "# Create a DataFrame\n",
        "restaurant_df = pd.DataFrame(restaurant_data)\n",
        "print(restaurant_df)"
      ],
      "metadata": {
        "colab": {
          "base_uri": "https://localhost:8080/"
        },
        "id": "h0yQHcFWEtzu",
        "outputId": "325f7209-0eaf-4e1f-8797-70577dac321a"
      },
      "execution_count": 6,
      "outputs": [
        {
          "output_type": "stream",
          "name": "stdout",
          "text": [
            "                             names  \\\n",
            "0            The Banyan Restaurant   \n",
            "1                    Sree Sabarees   \n",
            "2                Murugan Idli Shop   \n",
            "3                       Kumar Mess   \n",
            "4    Anjappar Chettinad Restaurant   \n",
            "5                      Bistro 1427   \n",
            "6         Surya Rooftop Restaurant   \n",
            "7  Ahaaram Multicuisine Restaurant   \n",
            "8        Madurai Mapillai Virundhu   \n",
            "9               Zaitoon Restaurant   \n",
            "\n",
            "                                        descriptions  \n",
            "0  Located in Heritage Madurai, it offers a mix o...  \n",
            "1  A highly-rated vegetarian restaurant, famous f...  \n",
            "2  One of the best places for soft idlis, delicio...  \n",
            "3  A go-to place for authentic non-veg dishes lik...  \n",
            "4  Renowned for its spicy and flavorful Chettinad...  \n",
            "5  A stylish and modern restaurant offering a mix...  \n",
            "6  A scenic restaurant offering a panoramic view ...  \n",
            "7  Known for its elaborate South Indian thali mea...  \n",
            "8  Famous for its unique fusion of South and Nort...  \n",
            "9      Multi-cuisine dishes in a beautiful ambiance.  \n"
          ]
        }
      ]
    },
    {
      "cell_type": "code",
      "source": [
        "def get_content_based_recommendations(restaurant_name, restaurant_df, n_recommendations=3):\n",
        "\n",
        "    tfidf = TfidfVectorizer(stop_words='english')\n",
        "    tfidf_matrix = tfidf.fit_transform(restaurant_df['descriptions'])\n",
        "    #Find similarity\n",
        "    cosine_sim = cosine_similarity(tfidf_matrix, tfidf_matrix)\n",
        "\n",
        "    cosine_sim_df = pd.DataFrame(cosine_sim, index=restaurant_df['names'], columns=restaurant_df['names'])\n",
        "\n",
        "    sim_scores = cosine_sim_df[restaurant_name].sort_values(ascending=False)\n",
        "    similar_restaurant = sim_scores[sim_scores.index != restaurant_name].head(n_recommendations)\n",
        "    return similar_restaurant"
      ],
      "metadata": {
        "id": "e3ehfTMQFOzh"
      },
      "execution_count": 9,
      "outputs": []
    },
    {
      "cell_type": "code",
      "source": [
        "restaurant_to_recommend = 'Bistro 1427'\n",
        "recommendations = get_content_based_recommendations(restaurant_to_recommend, restaurant_df)\n",
        "print(f\"Recommendations for '{restaurant_to_recommend}':\")\n",
        "print(recommendations)"
      ],
      "metadata": {
        "colab": {
          "base_uri": "https://localhost:8080/"
        },
        "id": "5uORulksF7mU",
        "outputId": "10cfda2b-f909-4132-ac65-80627a727963"
      },
      "execution_count": 11,
      "outputs": [
        {
          "output_type": "stream",
          "name": "stdout",
          "text": [
            "Recommendations for 'Bistro 1427':\n",
            "names\n",
            "Surya Rooftop Restaurant    0.323881\n",
            "The Banyan Restaurant       0.187273\n",
            "Sree Sabarees               0.117297\n",
            "Name: Bistro 1427, dtype: float64\n"
          ]
        }
      ]
    }
  ]
}