{
  "nbformat": 4,
  "nbformat_minor": 0,
  "metadata": {
    "colab": {
      "provenance": []
    },
    "kernelspec": {
      "name": "python3",
      "display_name": "Python 3"
    },
    "language_info": {
      "name": "python"
    }
  },
  "cells": [
    {
      "cell_type": "code",
      "execution_count": 3,
      "metadata": {
        "id": "lXr3iLCTJ02m"
      },
      "outputs": [],
      "source": [
        "import pandas as pd\n",
        "from sklearn.feature_extraction.text import TfidfVectorizer\n",
        "from sklearn.metrics.pairwise import cosine_similarity\n",
        "# Sample academy dataset\n",
        "college_data = {\n",
        "  \"names\": [\n",
        "    \"Madurai Kamaraj University\",\n",
        "    \"Thiagarajar College of Engineering (TCE)\",\n",
        "    \"Anna University Regional Campus, Madurai\",\n",
        "    \"Velammal College of Engineering and Technology (VCET)\",\n",
        "    \"Madurai Medical College (MMC)\",\n",
        "    \"The American College\",\n",
        "    \"Yadava College\",\n",
        "    \"Government Law College, Madurai\",\n",
        "    \"Agricultural College and Research Institute (ACRI), Madurai\",\n",
        "    \"CSI College of Dental Science and Research\"\n",
        "  ],\n",
        "  \"descriptions\": [\n",
        "    \"Madurai Kamaraj University - A well-known public university offering UG, PG, and PhD programs in various disciplines.\",\n",
        "    \"Thiagarajar College of Engineering (TCE) - One of the top engineering colleges in Tamil Nadu, affiliated with Anna University.\",\n",
        "    \"Anna University Regional Campus, Madurai - Offers B.E, B.Tech, and MBA programs under Anna University.\",\n",
        "    \"Velammal College of Engineering and Technology (VCET) - A reputed private engineering college offering undergraduate and postgraduate courses.\",\n",
        "    \"Madurai Medical College (MMC) - A leading government medical college providing MBBS and other medical courses.\",\n",
        "    \"The American College - A prestigious arts and science college with a long history of academic excellence.\",\n",
        "    \"Yadava College - A private-aided college offering a wide range of undergraduate and postgraduate courses.\",\n",
        "    \"Government Law College, Madurai - One of the top law colleges in Tamil Nadu offering LLB and legal studies.\",\n",
        "    \"Agricultural College and Research Institute (ACRI), Madurai - Focused on agricultural sciences, affiliated with Tamil Nadu Agricultural University.\",\n",
        "    \"CSI College of Dental Science and Research - A premier institute for dental studies, offering BDS and MDS programs.\"\n",
        "  ]\n",
        "}\n"
      ]
    },
    {
      "cell_type": "code",
      "source": [
        "# Create a DataFrame\n",
        "college_df = pd.DataFrame(college_data)\n",
        "print(college_df)"
      ],
      "metadata": {
        "colab": {
          "base_uri": "https://localhost:8080/"
        },
        "id": "wm5N_VMFKe8u",
        "outputId": "7f56a6d5-2854-4b94-d5fa-8fed148e88f9"
      },
      "execution_count": 4,
      "outputs": [
        {
          "output_type": "stream",
          "name": "stdout",
          "text": [
            "                                               names  \\\n",
            "0                         Madurai Kamaraj University   \n",
            "1           Thiagarajar College of Engineering (TCE)   \n",
            "2           Anna University Regional Campus, Madurai   \n",
            "3  Velammal College of Engineering and Technology...   \n",
            "4                      Madurai Medical College (MMC)   \n",
            "5                               The American College   \n",
            "6                                     Yadava College   \n",
            "7                    Government Law College, Madurai   \n",
            "8  Agricultural College and Research Institute (A...   \n",
            "9         CSI College of Dental Science and Research   \n",
            "\n",
            "                                        descriptions  \n",
            "0  Madurai Kamaraj University - A well-known publ...  \n",
            "1  Thiagarajar College of Engineering (TCE) - One...  \n",
            "2  Anna University Regional Campus, Madurai - Off...  \n",
            "3  Velammal College of Engineering and Technology...  \n",
            "4  Madurai Medical College (MMC) - A leading gove...  \n",
            "5  The American College - A prestigious arts and ...  \n",
            "6  Yadava College - A private-aided college offer...  \n",
            "7  Government Law College, Madurai - One of the t...  \n",
            "8  Agricultural College and Research Institute (A...  \n",
            "9  CSI College of Dental Science and Research - A...  \n"
          ]
        }
      ]
    },
    {
      "cell_type": "code",
      "source": [
        "def get_content_based_recommendations(college_name, college_df, n_recommendations=3):\n",
        "\n",
        "    tfidf = TfidfVectorizer(stop_words='english')\n",
        "    tfidf_matrix = tfidf.fit_transform(college_df['descriptions'])\n",
        "    #Find similarity\n",
        "    cosine_sim = cosine_similarity(tfidf_matrix, tfidf_matrix)\n",
        "\n",
        "    cosine_sim_df = pd.DataFrame(cosine_sim, index=college_df['names'], columns=college_df['names'])\n",
        "\n",
        "    sim_scores = cosine_sim_df[college_name].sort_values(ascending=False)\n",
        "    similar_college = sim_scores[sim_scores.index != college_name].head(n_recommendations)\n",
        "    return similar_college"
      ],
      "metadata": {
        "id": "p2bGW-hhK3z_"
      },
      "execution_count": 7,
      "outputs": []
    },
    {
      "cell_type": "code",
      "source": [
        "college_to_recommend = 'The American College'\n",
        "recommendations = get_content_based_recommendations(college_to_recommend, college_df)\n",
        "print(f\"Recommendations for '{college_to_recommend}':\")\n",
        "print(recommendations)"
      ],
      "metadata": {
        "colab": {
          "base_uri": "https://localhost:8080/"
        },
        "id": "ZniFdBi8LUl3",
        "outputId": "f0a4f822-7298-4ad1-df1b-f7ed0eb96ead"
      },
      "execution_count": 10,
      "outputs": [
        {
          "output_type": "stream",
          "name": "stdout",
          "text": [
            "Recommendations for 'The American College':\n",
            "names\n",
            "CSI College of Dental Science and Research               0.110536\n",
            "Yadava College                                           0.096361\n",
            "Velammal College of Engineering and Technology (VCET)    0.082397\n",
            "Name: The American College, dtype: float64\n"
          ]
        }
      ]
    }
  ]
}