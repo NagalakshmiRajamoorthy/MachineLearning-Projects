{
  "nbformat": 4,
  "nbformat_minor": 0,
  "metadata": {
    "colab": {
      "provenance": []
    },
    "kernelspec": {
      "name": "python3",
      "display_name": "Python 3"
    },
    "language_info": {
      "name": "python"
    }
  },
  "cells": [
    {
      "cell_type": "code",
      "execution_count": 11,
      "metadata": {
        "id": "eONmjMRD5LFu"
      },
      "outputs": [],
      "source": [
        "import pandas as pd\n",
        "from sklearn.feature_extraction.text import TfidfVectorizer\n",
        "from sklearn.metrics.pairwise import cosine_similarity\n",
        "# Sample movie dataset\n",
        "movies_data = {\n",
        "    'Title': ['LEO', 'RRR', 'Mozhi', 'LOVE TODAY', 'IRUMBUKOTTAI MURATTU SINGAM', 'Asuran', 'Super Deluxe', 'Vikram', 'Jai Bhim', 'Soorarai Pottru', 'Ponniyin Selvan', 'Kaithi'],\n",
        "    'Genre': ['Action Adventure', 'Action', 'Drama', 'Drama Romance', 'Adventure Comedy', 'Action Drama', 'Thriller Drama', 'Action Thriller', 'Drama Crime', 'Drama Biography', 'Historical Drama', 'Action Thriller']\n",
        "}"
      ]
    },
    {
      "cell_type": "code",
      "source": [
        "# Create a DataFrame\n",
        "movies_df = pd.DataFrame(movies_data)\n",
        "print(movies_df)"
      ],
      "metadata": {
        "colab": {
          "base_uri": "https://localhost:8080/"
        },
        "id": "6q4-Xo0r5yYG",
        "outputId": "e1a1b436-f23e-4769-99e0-e07360f99f40"
      },
      "execution_count": 12,
      "outputs": [
        {
          "output_type": "stream",
          "name": "stdout",
          "text": [
            "                          Title             Genre\n",
            "0                           LEO  Action Adventure\n",
            "1                           RRR            Action\n",
            "2                         Mozhi             Drama\n",
            "3                    LOVE TODAY     Drama Romance\n",
            "4   IRUMBUKOTTAI MURATTU SINGAM  Adventure Comedy\n",
            "5                        Asuran      Action Drama\n",
            "6                  Super Deluxe    Thriller Drama\n",
            "7                        Vikram   Action Thriller\n",
            "8                      Jai Bhim       Drama Crime\n",
            "9               Soorarai Pottru   Drama Biography\n",
            "10              Ponniyin Selvan  Historical Drama\n",
            "11                       Kaithi   Action Thriller\n"
          ]
        }
      ]
    },
    {
      "cell_type": "code",
      "source": [
        "def get_content_based_recommendations(movie_title, movies_df, n_recommendations=3):\n",
        "    #LEO , ACTION ADVENTURE, 2\n",
        "    tfidf = TfidfVectorizer(stop_words='english')\n",
        "    tfidf_matrix = tfidf.fit_transform(movies_df['Genre'])\n",
        "    #ACTION,ADVENTURE,===> ACTION, ADVENTURE\n",
        "    cosine_sim = cosine_similarity(tfidf_matrix, tfidf_matrix)\n",
        "    #ACTION=====>RRR,Irumbukottaimurattusingam\n",
        "    cosine_sim_df = pd.DataFrame(cosine_sim, index=movies_df['Title'], columns=movies_df['Title'])\n",
        "\n",
        "    sim_scores = cosine_sim_df[movie_title].sort_values(ascending=False)\n",
        "    similar_movies = sim_scores[sim_scores.index != movie_title].head(n_recommendations)\n",
        "    return similar_movies"
      ],
      "metadata": {
        "id": "vnmSihJx59nt"
      },
      "execution_count": 13,
      "outputs": []
    },
    {
      "cell_type": "code",
      "source": [
        "movie_to_recommend = 'LOVE TODAY'\n",
        "recommendations = get_content_based_recommendations(movie_to_recommend, movies_df)\n",
        "print(f\"Recommendations for '{movie_to_recommend}':\")\n",
        "print(recommendations)"
      ],
      "metadata": {
        "colab": {
          "base_uri": "https://localhost:8080/"
        },
        "id": "hjC9P8GB6Gpw",
        "outputId": "b623e390-19f8-484a-bb05-a67d57cd65dc"
      },
      "execution_count": 15,
      "outputs": [
        {
          "output_type": "stream",
          "name": "stdout",
          "text": [
            "Recommendations for 'LOVE TODAY':\n",
            "Title\n",
            "Mozhi           0.459446\n",
            "Asuran          0.295049\n",
            "Super Deluxe    0.258830\n",
            "Name: LOVE TODAY, dtype: float64\n"
          ]
        }
      ]
    }
  ]
}