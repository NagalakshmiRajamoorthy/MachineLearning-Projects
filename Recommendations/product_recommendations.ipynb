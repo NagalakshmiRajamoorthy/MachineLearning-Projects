{
  "nbformat": 4,
  "nbformat_minor": 0,
  "metadata": {
    "colab": {
      "provenance": []
    },
    "kernelspec": {
      "name": "python3",
      "display_name": "Python 3"
    },
    "language_info": {
      "name": "python"
    }
  },
  "cells": [
    {
      "cell_type": "code",
      "execution_count": 2,
      "metadata": {
        "id": "eONmjMRD5LFu"
      },
      "outputs": [],
      "source": [
        "import pandas as pd\n",
        "from sklearn.feature_extraction.text import TfidfVectorizer\n",
        "from sklearn.metrics.pairwise import cosine_similarity\n",
        "# Sample movie dataset\n",
        "products_data = {\n",
        "  \"products\": [\n",
        "    \"iPhone 15 Pro\",\n",
        "    \"Nike Air Jordan 1\",\n",
        "    \"Samsung 65\\\" QLED TV\",\n",
        "    \"Sony WH-1000XM5 Headphones\",\n",
        "    \"Dell XPS 15 Laptop\",\n",
        "    \"Rolex Submariner Watch\",\n",
        "    \"The Ordinary Niacinamide Serum\",\n",
        "    \"Herman Miller Aeron Chair\",\n",
        "    \"LEGO Star Wars Millennium Falcon\",\n",
        "    \"NutriBullet Pro Blender\"\n",
        "  ],\n",
        "  \"categories\": [\n",
        "    \"Electronics / Smartphones\",\n",
        "    \"Fashion / Footwear\",\n",
        "    \"Electronics / Home Appliances\",\n",
        "    \"Electronics / Audio\",\n",
        "    \"Computers & Accessories\",\n",
        "    \"Luxury / Accessories\",\n",
        "    \"Beauty / Skincare\",\n",
        "    \"Furniture / Office Supplies\",\n",
        "    \"Toys & Games\",\n",
        "    \"Kitchen / Home Appliances\"\n",
        "  ]\n",
        "}"
      ]
    },
    {
      "cell_type": "code",
      "source": [
        "# Create a DataFrame\n",
        "products_df = pd.DataFrame(products_data)\n",
        "print(products_df)"
      ],
      "metadata": {
        "colab": {
          "base_uri": "https://localhost:8080/"
        },
        "id": "6q4-Xo0r5yYG",
        "outputId": "535a9ba3-86e2-495e-bed8-98eb31b991dd"
      },
      "execution_count": 4,
      "outputs": [
        {
          "output_type": "stream",
          "name": "stdout",
          "text": [
            "                           products                     categories\n",
            "0                     iPhone 15 Pro      Electronics / Smartphones\n",
            "1                 Nike Air Jordan 1             Fashion / Footwear\n",
            "2               Samsung 65\" QLED TV  Electronics / Home Appliances\n",
            "3        Sony WH-1000XM5 Headphones            Electronics / Audio\n",
            "4                Dell XPS 15 Laptop        Computers & Accessories\n",
            "5            Rolex Submariner Watch           Luxury / Accessories\n",
            "6    The Ordinary Niacinamide Serum              Beauty / Skincare\n",
            "7         Herman Miller Aeron Chair    Furniture / Office Supplies\n",
            "8  LEGO Star Wars Millennium Falcon                   Toys & Games\n",
            "9           NutriBullet Pro Blender      Kitchen / Home Appliances\n"
          ]
        }
      ]
    },
    {
      "cell_type": "code",
      "source": [
        "def get_content_based_recommendations(product_name, products_df, n_recommendations=3):\n",
        "    #LEO , ACTION ADVENTURE, 2\n",
        "    tfidf = TfidfVectorizer(stop_words='english')\n",
        "    tfidf_matrix = tfidf.fit_transform(products_df['categories'])\n",
        "    #ACTION,ADVENTURE,===> ACTION, ADVENTURE\n",
        "    cosine_sim = cosine_similarity(tfidf_matrix, tfidf_matrix)\n",
        "    #ACTION=====>RRR,Irumbukottaimurattusingam\n",
        "    cosine_sim_df = pd.DataFrame(cosine_sim, index=products_df['products'], columns=products_df['products'])\n",
        "\n",
        "    sim_scores = cosine_sim_df[product_name].sort_values(ascending=False)\n",
        "    similar_products = sim_scores[sim_scores.index != product_name].head(n_recommendations)\n",
        "    return similar_products"
      ],
      "metadata": {
        "id": "vnmSihJx59nt"
      },
      "execution_count": 7,
      "outputs": []
    },
    {
      "cell_type": "code",
      "source": [
        "products_to_recommend = 'iPhone 15 Pro'\n",
        "recommendations = get_content_based_recommendations(products_to_recommend, products_df)\n",
        "print(f\"Recommendations for '{products_to_recommend}':\")\n",
        "print(recommendations)"
      ],
      "metadata": {
        "colab": {
          "base_uri": "https://localhost:8080/"
        },
        "id": "hjC9P8GB6Gpw",
        "outputId": "2339c049-0ac5-4918-f0fd-739aae75f18c"
      },
      "execution_count": 9,
      "outputs": [
        {
          "output_type": "stream",
          "name": "stdout",
          "text": [
            "Recommendations for 'iPhone 15 Pro':\n",
            "products\n",
            "Sony WH-1000XM5 Headphones    0.356140\n",
            "Samsung 65\" QLED TV           0.313964\n",
            "Nike Air Jordan 1             0.000000\n",
            "Name: iPhone 15 Pro, dtype: float64\n"
          ]
        }
      ]
    }
  ]
}