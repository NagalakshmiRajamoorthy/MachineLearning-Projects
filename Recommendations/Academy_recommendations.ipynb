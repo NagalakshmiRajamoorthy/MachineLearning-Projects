{
  "nbformat": 4,
  "nbformat_minor": 0,
  "metadata": {
    "colab": {
      "provenance": []
    },
    "kernelspec": {
      "name": "python3",
      "display_name": "Python 3"
    },
    "language_info": {
      "name": "python"
    }
  },
  "cells": [
    {
      "cell_type": "code",
      "execution_count": 10,
      "metadata": {
        "id": "ZWUrmg0B_lSB"
      },
      "outputs": [],
      "source": [
        "import pandas as pd\n",
        "from sklearn.feature_extraction.text import TfidfVectorizer\n",
        "from sklearn.metrics.pairwise import cosine_similarity\n",
        "# Sample academy dataset\n",
        "academy_data = {\n",
        "  \"names\": [\n",
        "    \"V-Stars Academy\",\n",
        "    \"Dexter Academy\",\n",
        "    \"SEN IAS Academy\",\n",
        "    \"Kalvi Higher Education & Research Institute\",\n",
        "    \"BroadMind Consultant\",\n",
        "    \"Arena Animation\",\n",
        "    \"Elysium Academy\",\n",
        "    \"Sri Sai Coaching Centre\",\n",
        "    \"Kingmakers IAS Academy\",\n",
        "    \"Mazenet Solution\"\n",
        "  ],\n",
        "  \"descriptions\": [\n",
        "    \"Provides training in computer courses, typewriting, tailoring, and spoken languages with government-approved certifications.\",\n",
        "    \"Offers coaching for banking exams, TNPSC, SSC, and railway recruitment with expert faculty.\",\n",
        "    \"Specializes in IAS coaching for UPSC Civil Services, along with CAT, MAT, and IBPS PO exam preparation.\",\n",
        "    \"A higher education and research institute offering IELTS, GRE, and certification courses in various domains.\",\n",
        "    \"A study-abroad consultant providing training for IELTS, PTE, TOEFL, GMAT, and other international entrance exams.\",\n",
        "    \"One of the best institutes for animation and multimedia courses, including VFX, gaming, and 3D animation.\",\n",
        "    \"A premier institute offering software, networking, and IT certification training in Madurai.\",\n",
        "    \"Renowned for NEET and medical entrance exam coaching with a high success rate.\",\n",
        "    \"A well-known IAS coaching institute that prepares students for UPSC Prelims, Mains, and Interview stages.\",\n",
        "    \"Provides software training, IT certification programs, and corporate training solutions.\"\n",
        "  ]\n",
        "}"
      ]
    },
    {
      "cell_type": "code",
      "source": [
        "# Create a DataFrame\n",
        "academy_df = pd.DataFrame(academy_data)\n",
        "print(academy_df)"
      ],
      "metadata": {
        "colab": {
          "base_uri": "https://localhost:8080/"
        },
        "id": "u_sxYOE_ANCG",
        "outputId": "35327bd8-c803-4c2c-ec9e-77c943ccfd22"
      },
      "execution_count": 11,
      "outputs": [
        {
          "output_type": "stream",
          "name": "stdout",
          "text": [
            "                                         names  \\\n",
            "0                              V-Stars Academy   \n",
            "1                               Dexter Academy   \n",
            "2                              SEN IAS Academy   \n",
            "3  Kalvi Higher Education & Research Institute   \n",
            "4                         BroadMind Consultant   \n",
            "5                              Arena Animation   \n",
            "6                              Elysium Academy   \n",
            "7                      Sri Sai Coaching Centre   \n",
            "8                       Kingmakers IAS Academy   \n",
            "9                             Mazenet Solution   \n",
            "\n",
            "                                        descriptions  \n",
            "0  Provides training in computer courses, typewri...  \n",
            "1  Offers coaching for banking exams, TNPSC, SSC,...  \n",
            "2  Specializes in IAS coaching for UPSC Civil Ser...  \n",
            "3  A higher education and research institute offe...  \n",
            "4  A study-abroad consultant providing training f...  \n",
            "5  One of the best institutes for animation and m...  \n",
            "6  A premier institute offering software, network...  \n",
            "7  Renowned for NEET and medical entrance exam co...  \n",
            "8  A well-known IAS coaching institute that prepa...  \n",
            "9  Provides software training, IT certification p...  \n"
          ]
        }
      ]
    },
    {
      "cell_type": "code",
      "source": [
        "def get_content_based_recommendations(academy_name, academy_df, n_recommendations=3):\n",
        "\n",
        "    tfidf = TfidfVectorizer(stop_words='english')\n",
        "    tfidf_matrix = tfidf.fit_transform(academy_df['descriptions'])\n",
        "    #Find similarity\n",
        "    cosine_sim = cosine_similarity(tfidf_matrix, tfidf_matrix)\n",
        "\n",
        "    cosine_sim_df = pd.DataFrame(cosine_sim, index=academy_df['names'], columns=academy_df['names'])\n",
        "\n",
        "    sim_scores = cosine_sim_df[academy_name].sort_values(ascending=False)\n",
        "    similar_academy = sim_scores[sim_scores.index != academy_name].head(n_recommendations)\n",
        "    return similar_academy"
      ],
      "metadata": {
        "id": "5okZgHNFAox8"
      },
      "execution_count": 12,
      "outputs": []
    },
    {
      "cell_type": "code",
      "source": [
        "academy_to_recommend = 'Elysium Academy'\n",
        "recommendations = get_content_based_recommendations(academy_to_recommend, academy_df)\n",
        "print(f\"Recommendations for '{academy_to_recommend}':\")\n",
        "print(recommendations)"
      ],
      "metadata": {
        "colab": {
          "base_uri": "https://localhost:8080/"
        },
        "id": "2WYr7YlNBSJW",
        "outputId": "85b644d7-f830-4648-c9b0-03ae8b4796f2"
      },
      "execution_count": 13,
      "outputs": [
        {
          "output_type": "stream",
          "name": "stdout",
          "text": [
            "Recommendations for 'Elysium Academy':\n",
            "names\n",
            "Mazenet Solution                               0.338259\n",
            "Kalvi Higher Education & Research Institute    0.247681\n",
            "Kingmakers IAS Academy                         0.073582\n",
            "Name: Elysium Academy, dtype: float64\n"
          ]
        }
      ]
    }
  ]
}