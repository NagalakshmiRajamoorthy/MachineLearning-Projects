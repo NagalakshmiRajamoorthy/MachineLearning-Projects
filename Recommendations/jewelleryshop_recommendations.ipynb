{
  "nbformat": 4,
  "nbformat_minor": 0,
  "metadata": {
    "colab": {
      "provenance": []
    },
    "kernelspec": {
      "name": "python3",
      "display_name": "Python 3"
    },
    "language_info": {
      "name": "python"
    }
  },
  "cells": [
    {
      "cell_type": "code",
      "execution_count": 2,
      "metadata": {
        "id": "TN6Ai0yLKJ2P"
      },
      "outputs": [],
      "source": [
        "import pandas as pd\n",
        "from sklearn.feature_extraction.text import TfidfVectorizer\n",
        "from sklearn.metrics.pairwise import cosine_similarity\n",
        "# Sample jewelleryshop dataset\n",
        "jewelleryshop_data = {\n",
        " \"names\": [\n",
        "    \"Malabar Gold & Diamonds\",\n",
        "    \"Kalyan Jewellers\",\n",
        "    \"Jos Alukkas\",\n",
        "    \"Lalitha Jewellery\",\n",
        "    \"GRT Jewellers\",\n",
        "    \"Prince Jewellery\",\n",
        "    \"Saravana Stores Elite\",\n",
        "    \"Tanishq\",\n",
        "    \"Sree Kumaran Thangamaligai\",\n",
        "    \"Annam Jewellers\"\n",
        "  ],\n",
        "  \"descriptions\": [\n",
        "    \"A well-known jewellery brand offering a wide range of gold, diamond, and platinum jewellery.\",\n",
        "    \"A trusted jewellery chain with traditional and modern jewellery collections.\",\n",
        "    \"A reputed jewellery brand known for high-quality gold and diamond jewellery.\",\n",
        "    \"Popular for its transparent pricing and a vast collection of gold and silver ornaments.\",\n",
        "    \"A renowned jewellery shop offering exquisite traditional and contemporary designs.\",\n",
        "    \"Well known for stylish and trendy jewellery designs, including gold, diamond, and silver collections.\",\n",
        "    \"A popular jewellery destination with an extensive collection of gold and silver ornaments.\",\n",
        "    \"A premium jewellery brand by Tata, offering modern and elegant jewellery designs.\",\n",
        "    \"A well-established jewellery shop known for traditional gold ornaments.\",\n",
        "    \"A reputed local jewellery shop in Madurai known for quality and craftsmanship.\"\n",
        "  ]\n",
        "}"
      ]
    },
    {
      "cell_type": "code",
      "source": [
        "# Create a DataFrame\n",
        "jewelleryshop_df = pd.DataFrame(jewelleryshop_data)\n",
        "print(jewelleryshop_df)"
      ],
      "metadata": {
        "colab": {
          "base_uri": "https://localhost:8080/"
        },
        "id": "BPiP0KPJKnR3",
        "outputId": "f695bcf2-5c72-4144-f6d2-e2729298d505"
      },
      "execution_count": 10,
      "outputs": [
        {
          "output_type": "stream",
          "name": "stdout",
          "text": [
            "                        names  \\\n",
            "0     Malabar Gold & Diamonds   \n",
            "1            Kalyan Jewellers   \n",
            "2                 Jos Alukkas   \n",
            "3           Lalitha Jewellery   \n",
            "4               GRT Jewellers   \n",
            "5            Prince Jewellery   \n",
            "6       Saravana Stores Elite   \n",
            "7                     Tanishq   \n",
            "8  Sree Kumaran Thangamaligai   \n",
            "9             Annam Jewellers   \n",
            "\n",
            "                                        descriptions  \n",
            "0  A well-known jewellery brand offering a wide r...  \n",
            "1  A trusted jewellery chain with traditional and...  \n",
            "2  A reputed jewellery brand known for high-quali...  \n",
            "3  Popular for its transparent pricing and a vast...  \n",
            "4  A renowned jewellery shop offering exquisite t...  \n",
            "5  Well known for stylish and trendy jewellery de...  \n",
            "6  A popular jewellery destination with an extens...  \n",
            "7  A premium jewellery brand by Tata, offering mo...  \n",
            "8  A well-established jewellery shop known for tr...  \n",
            "9  A reputed local jewellery shop in Madurai know...  \n"
          ]
        }
      ]
    },
    {
      "cell_type": "code",
      "source": [
        "def get_content_based_recommendations(jewelleryshop_name, jewelleryshop_df, n_recommendations=3):\n",
        "\n",
        "    tfidf = TfidfVectorizer(stop_words='english')\n",
        "    tfidf_matrix = tfidf.fit_transform(jewelleryshop_df['descriptions'])\n",
        "    #Find similarity\n",
        "    cosine_sim = cosine_similarity(tfidf_matrix, tfidf_matrix)\n",
        "\n",
        "    cosine_sim_df = pd.DataFrame(cosine_sim, index=jewelleryshop_df['names'], columns=jewelleryshop_df['names'])\n",
        "\n",
        "    sim_scores = cosine_sim_df[jewelleryshop_name].sort_values(ascending=False)\n",
        "    similar_shop = sim_scores[sim_scores.index != jewelleryshop_name].head(n_recommendations)\n",
        "    return similar_shop"
      ],
      "metadata": {
        "id": "iY3OZEPMKu75"
      },
      "execution_count": 13,
      "outputs": []
    },
    {
      "cell_type": "code",
      "source": [
        "shop_to_recommend = 'Kalyan Jewellers'\n",
        "recommendations = get_content_based_recommendations(shop_to_recommend, jewelleryshop_df)\n",
        "print(f\"Recommendations for '{shop_to_recommend}':\")\n",
        "print(recommendations)"
      ],
      "metadata": {
        "colab": {
          "base_uri": "https://localhost:8080/"
        },
        "id": "czqikNPlLEor",
        "outputId": "69cc5a0c-239f-4893-b05f-d8abd078ac77"
      },
      "execution_count": 14,
      "outputs": [
        {
          "output_type": "stream",
          "name": "stdout",
          "text": [
            "Recommendations for 'Kalyan Jewellers':\n",
            "names\n",
            "Tanishq                       0.260055\n",
            "Sree Kumaran Thangamaligai    0.219432\n",
            "Prince Jewellery              0.195788\n",
            "Name: Kalyan Jewellers, dtype: float64\n"
          ]
        }
      ]
    }
  ]
}