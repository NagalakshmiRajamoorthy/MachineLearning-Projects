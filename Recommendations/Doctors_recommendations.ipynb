{
  "nbformat": 4,
  "nbformat_minor": 0,
  "metadata": {
    "colab": {
      "provenance": []
    },
    "kernelspec": {
      "name": "python3",
      "display_name": "Python 3"
    },
    "language_info": {
      "name": "python"
    }
  },
  "cells": [
    {
      "cell_type": "code",
      "execution_count": 1,
      "metadata": {
        "id": "IsloITDT60AN"
      },
      "outputs": [],
      "source": [
        "import pandas as pd\n",
        "from sklearn.feature_extraction.text import TfidfVectorizer\n",
        "from sklearn.metrics.pairwise import cosine_similarity\n",
        "# Sample movie dataset\n",
        "doctors_data = {\n",
        "  \"names\": [\n",
        "    \"Dr. Praveen Kumar C\",\n",
        "    \"Dr. Madhusudhanan J\",\n",
        "    \"Dr. A.G. Alwar Ramanujam\",\n",
        "    \"Dr. Rajesh Prabhu\",\n",
        "    \"Dr. A.C. Arun\",\n",
        "    \"Dr. M Annamalai Swamy\",\n",
        "    \"Dr. Sanjay Nagral\",\n",
        "    \"Dr. S Ravi\",\n",
        "    \"Dr. Krishna Mohan\",\n",
        "    \"Dr. Arulprakash\"\n",
        "  ],\n",
        "  \"descriptions\": [\n",
        "    \"Specialist in liver and digestive disorders at Apollo Hospitals, Madurai\",\n",
        "    \"Expert in chronic gastrointestinal conditions at Apollo Speciality Hospitals, Madurai\",\n",
        "    \"Surgical gastroenterologist specializing in pediatric and adult care\",\n",
        "    \"Oncologist with expertise in gastrointestinal cancers\",\n",
        "    \"Digestive system disorders specialist at Pandian Advanced Medical Centre, Madurai\",\n",
        "    \"Experienced general physician in Madurai\",\n",
        "    \"Gastrointestinal surgery and hepatology specialist\",\n",
        "    \"Expert in endoscopic retrograde cholangiopancreatography (ERCP)\",\n",
        "    \"Renowned gastroenterologist at Meenakshi Mission Hospital\",\n",
        "    \"Specialist in hepatology and liver-related disorders\"\n",
        "  ]\n",
        "}"
      ]
    },
    {
      "cell_type": "code",
      "source": [
        "# Create a DataFrame\n",
        "doctors_df = pd.DataFrame(doctors_data)\n",
        "print(doctors_df)"
      ],
      "metadata": {
        "colab": {
          "base_uri": "https://localhost:8080/"
        },
        "id": "vvV-AoGc8K8D",
        "outputId": "d13fc1e6-42cd-42a3-a8c3-07229fd2dcec"
      },
      "execution_count": 2,
      "outputs": [
        {
          "output_type": "stream",
          "name": "stdout",
          "text": [
            "                      names                                       descriptions\n",
            "0       Dr. Praveen Kumar C  Specialist in liver and digestive disorders at...\n",
            "1       Dr. Madhusudhanan J  Expert in chronic gastrointestinal conditions ...\n",
            "2  Dr. A.G. Alwar Ramanujam  Surgical gastroenterologist specializing in pe...\n",
            "3         Dr. Rajesh Prabhu  Oncologist with expertise in gastrointestinal ...\n",
            "4             Dr. A.C. Arun  Digestive system disorders specialist at Pandi...\n",
            "5     Dr. M Annamalai Swamy           Experienced general physician in Madurai\n",
            "6         Dr. Sanjay Nagral  Gastrointestinal surgery and hepatology specia...\n",
            "7                Dr. S Ravi  Expert in endoscopic retrograde cholangiopancr...\n",
            "8         Dr. Krishna Mohan  Renowned gastroenterologist at Meenakshi Missi...\n",
            "9           Dr. Arulprakash  Specialist in hepatology and liver-related dis...\n"
          ]
        }
      ]
    },
    {
      "cell_type": "code",
      "source": [
        "def get_content_based_recommendations(doctor_name, doctors_df, n_recommendations=3):\n",
        "    #LEO , ACTION ADVENTURE, 2\n",
        "    tfidf = TfidfVectorizer(stop_words='english')\n",
        "    tfidf_matrix = tfidf.fit_transform(doctors_df['descriptions'])\n",
        "    #ACTION,ADVENTURE,===> ACTION, ADVENTURE\n",
        "    cosine_sim = cosine_similarity(tfidf_matrix, tfidf_matrix)\n",
        "    #ACTION=====>RRR,Irumbukottaimurattusingam\n",
        "    cosine_sim_df = pd.DataFrame(cosine_sim, index=doctors_df['names'], columns=doctors_df['names'])\n",
        "\n",
        "    sim_scores = cosine_sim_df[doctor_name].sort_values(ascending=False)\n",
        "    similar_doctors = sim_scores[sim_scores.index != doctor_name].head(n_recommendations)\n",
        "    return similar_doctors"
      ],
      "metadata": {
        "id": "4M0CMG1T8cNl"
      },
      "execution_count": 3,
      "outputs": []
    },
    {
      "cell_type": "code",
      "source": [
        "doctor_to_recommend = 'Dr. Praveen Kumar C'\n",
        "recommendations = get_content_based_recommendations(doctor_to_recommend, doctors_df)\n",
        "print(f\"Recommendations for '{doctor_to_recommend}':\")\n",
        "print(recommendations)"
      ],
      "metadata": {
        "colab": {
          "base_uri": "https://localhost:8080/"
        },
        "id": "kUWgyrlb9JE6",
        "outputId": "ac4135eb-1832-48b2-9676-3aaf8fa31006"
      },
      "execution_count": 4,
      "outputs": [
        {
          "output_type": "stream",
          "name": "stdout",
          "text": [
            "Recommendations for 'Dr. Praveen Kumar C':\n",
            "names\n",
            "Dr. Arulprakash        0.444737\n",
            "Dr. A.C. Arun          0.417243\n",
            "Dr. Madhusudhanan J    0.365057\n",
            "Name: Dr. Praveen Kumar C, dtype: float64\n"
          ]
        }
      ]
    }
  ]
}