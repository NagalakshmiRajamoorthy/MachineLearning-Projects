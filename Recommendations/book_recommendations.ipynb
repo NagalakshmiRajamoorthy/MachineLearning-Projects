{
  "nbformat": 4,
  "nbformat_minor": 0,
  "metadata": {
    "colab": {
      "provenance": []
    },
    "kernelspec": {
      "name": "python3",
      "display_name": "Python 3"
    },
    "language_info": {
      "name": "python"
    }
  },
  "cells": [
    {
      "cell_type": "code",
      "execution_count": 2,
      "metadata": {
        "id": "TN6Ai0yLKJ2P"
      },
      "outputs": [],
      "source": [
        "import pandas as pd\n",
        "from sklearn.feature_extraction.text import TfidfVectorizer\n",
        "from sklearn.metrics.pairwise import cosine_similarity\n",
        "# Sample book dataset\n",
        "book_data = {\n",
        " \"names\": [\n",
        "    \"To Kill a Mockingbird\",\n",
        "    \"1984\",\n",
        "    \"Pride and Prejudice\",\n",
        "    \"The Great Gatsby\",\n",
        "    \"Harry Potter and the Sorcerer’s Stone\",\n",
        "    \"The Hobbit\",\n",
        "    \"The Catcher in the Rye\",\n",
        "    \"The Alchemist\",\n",
        "    \"The Lord of the Rings\",\n",
        "    \"Moby-Dick\"\n",
        "  ],\n",
        "   \"descriptions\": [\n",
        "    \"A classic novel by Harper Lee about racial injustice and moral growth.\",\n",
        "    \"George Orwell’s dystopian novel about a totalitarian society under constant surveillance.\",\n",
        "    \"Jane Austen’s timeless romance exploring love, class, and social expectations.\",\n",
        "    \"F. Scott Fitzgerald’s story of wealth, love, and the American Dream.\",\n",
        "    \"J.K. Rowling’s magical tale of a young wizard’s journey at Hogwarts.\",\n",
        "    \"J.R.R. Tolkien’s fantasy adventure following Bilbo Baggins’ quest for treasure.\",\n",
        "    \"J.D. Salinger’s coming-of-age novel about teenage alienation.\",\n",
        "    \"Paulo Coelho’s inspiring story of a shepherd’s journey to fulfill his dreams.\",\n",
        "    \"An epic fantasy trilogy by J.R.R. Tolkien about the battle against darkness.\",\n",
        "    \"Herman Melville’s deep and symbolic novel about obsession and revenge.\"\n",
        "  ]\n",
        "}"
      ]
    },
    {
      "cell_type": "code",
      "source": [
        "# Create a DataFrame\n",
        "book_df = pd.DataFrame(book_data)\n",
        "print(book_df)"
      ],
      "metadata": {
        "colab": {
          "base_uri": "https://localhost:8080/"
        },
        "id": "BPiP0KPJKnR3",
        "outputId": "4685985d-5faf-4c99-9b3b-1afbac8ced9b"
      },
      "execution_count": 3,
      "outputs": [
        {
          "output_type": "stream",
          "name": "stdout",
          "text": [
            "                                   names  \\\n",
            "0                  To Kill a Mockingbird   \n",
            "1                                   1984   \n",
            "2                    Pride and Prejudice   \n",
            "3                       The Great Gatsby   \n",
            "4  Harry Potter and the Sorcerer’s Stone   \n",
            "5                             The Hobbit   \n",
            "6                 The Catcher in the Rye   \n",
            "7                          The Alchemist   \n",
            "8                  The Lord of the Rings   \n",
            "9                              Moby-Dick   \n",
            "\n",
            "                                        descriptions  \n",
            "0  A classic novel by Harper Lee about racial inj...  \n",
            "1  George Orwell’s dystopian novel about a totali...  \n",
            "2  Jane Austen’s timeless romance exploring love,...  \n",
            "3  F. Scott Fitzgerald’s story of wealth, love, a...  \n",
            "4  J.K. Rowling’s magical tale of a young wizard’...  \n",
            "5  J.R.R. Tolkien’s fantasy adventure following B...  \n",
            "6  J.D. Salinger’s coming-of-age novel about teen...  \n",
            "7  Paulo Coelho’s inspiring story of a shepherd’s...  \n",
            "8  An epic fantasy trilogy by J.R.R. Tolkien abou...  \n",
            "9  Herman Melville’s deep and symbolic novel abou...  \n"
          ]
        }
      ]
    },
    {
      "cell_type": "code",
      "source": [
        "def get_content_based_recommendations(book_name, book_df, n_recommendations=3):\n",
        "\n",
        "    tfidf = TfidfVectorizer(stop_words='english')\n",
        "    tfidf_matrix = tfidf.fit_transform(book_df['descriptions'])\n",
        "    #Find similarity\n",
        "    cosine_sim = cosine_similarity(tfidf_matrix, tfidf_matrix)\n",
        "\n",
        "    cosine_sim_df = pd.DataFrame(cosine_sim, index=book_df['names'], columns=book_df['names'])\n",
        "\n",
        "    sim_scores = cosine_sim_df[book_name].sort_values(ascending=False)\n",
        "    similar_theatre = sim_scores[sim_scores.index != book_name].head(n_recommendations)\n",
        "    return similar_theatre"
      ],
      "metadata": {
        "id": "iY3OZEPMKu75"
      },
      "execution_count": 6,
      "outputs": []
    },
    {
      "cell_type": "code",
      "source": [
        "book_to_recommend = 'The Alchemist'\n",
        "recommendations = get_content_based_recommendations(book_to_recommend, book_df)\n",
        "print(f\"Recommendations for '{book_to_recommend}':\")\n",
        "print(recommendations)"
      ],
      "metadata": {
        "colab": {
          "base_uri": "https://localhost:8080/"
        },
        "id": "czqikNPlLEor",
        "outputId": "66f5fda9-c71a-450f-b041-c221b530e955"
      },
      "execution_count": 9,
      "outputs": [
        {
          "output_type": "stream",
          "name": "stdout",
          "text": [
            "Recommendations for 'The Alchemist':\n",
            "names\n",
            "The Great Gatsby                         0.104320\n",
            "Harry Potter and the Sorcerer’s Stone    0.102146\n",
            "To Kill a Mockingbird                    0.000000\n",
            "Name: The Alchemist, dtype: float64\n"
          ]
        }
      ]
    }
  ]
}