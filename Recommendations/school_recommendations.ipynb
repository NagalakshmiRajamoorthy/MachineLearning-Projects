{
  "nbformat": 4,
  "nbformat_minor": 0,
  "metadata": {
    "colab": {
      "provenance": []
    },
    "kernelspec": {
      "name": "python3",
      "display_name": "Python 3"
    },
    "language_info": {
      "name": "python"
    }
  },
  "cells": [
    {
      "cell_type": "code",
      "execution_count": 3,
      "metadata": {
        "id": "0Q7OPw0oMFDv"
      },
      "outputs": [],
      "source": [
        "import pandas as pd\n",
        "from sklearn.feature_extraction.text import TfidfVectorizer\n",
        "from sklearn.metrics.pairwise import cosine_similarity\n",
        "# Sample school dataset\n",
        "school_data = {\n",
        " \"names\": [\n",
        "    \"TVS Matriculation Higher Secondary School\",\n",
        "    \"Mahatma Montessori Matriculation Higher Secondary School\",\n",
        "    \"Velammal Matriculation Higher Secondary School\",\n",
        "    \"Kendriya Vidyalaya, Madurai\",\n",
        "    \"SBOA Matriculation and Higher Secondary School\",\n",
        "    \"Lakshmi School\",\n",
        "    \"Narayana E-Techno School\",\n",
        "    \"The American College Higher Secondary School\",\n",
        "    \"Jain Vidyaashram CBSE School\",\n",
        "    \"Idhayam Rajendran Residential School\"\n",
        "  ],\n",
        "   \"descriptions\": [\n",
        "    \"A well-reputed school known for academic excellence and extracurricular activities.\",\n",
        "    \"Follows a Montessori-based learning approach with a strong academic curriculum.\",\n",
        "    \"Part of the Velammal educational group, known for discipline and quality education.\",\n",
        "    \"A CBSE-affiliated school catering to central government employees’ children with high-quality education.\",\n",
        "    \"A well-established school offering excellent academic and co-curricular programs.\",\n",
        "    \"A progressive institution focusing on holistic education and individual development.\",\n",
        "    \"Known for integrating technology with education and preparing students for competitive exams.\",\n",
        "    \"One of the oldest schools in Madurai, with a strong academic foundation.\",\n",
        "    \"A CBSE school providing modern education with a focus on values and culture.\",\n",
        "    \"A well-known residential school providing quality education with a disciplined environment.\"\n",
        "  ]\n",
        "}"
      ]
    },
    {
      "cell_type": "code",
      "source": [
        "# Create a DataFrame\n",
        "school_df = pd.DataFrame(school_data)\n",
        "print(school_df)"
      ],
      "metadata": {
        "colab": {
          "base_uri": "https://localhost:8080/"
        },
        "id": "VHhVnUfjMrbO",
        "outputId": "37f5e831-4493-4f93-8186-f21ffea7ae43"
      },
      "execution_count": 4,
      "outputs": [
        {
          "output_type": "stream",
          "name": "stdout",
          "text": [
            "                                               names  \\\n",
            "0          TVS Matriculation Higher Secondary School   \n",
            "1  Mahatma Montessori Matriculation Higher Second...   \n",
            "2     Velammal Matriculation Higher Secondary School   \n",
            "3                        Kendriya Vidyalaya, Madurai   \n",
            "4     SBOA Matriculation and Higher Secondary School   \n",
            "5                                     Lakshmi School   \n",
            "6                           Narayana E-Techno School   \n",
            "7       The American College Higher Secondary School   \n",
            "8                       Jain Vidyaashram CBSE School   \n",
            "9               Idhayam Rajendran Residential School   \n",
            "\n",
            "                                        descriptions  \n",
            "0  A well-reputed school known for academic excel...  \n",
            "1  Follows a Montessori-based learning approach w...  \n",
            "2  Part of the Velammal educational group, known ...  \n",
            "3  A CBSE-affiliated school catering to central g...  \n",
            "4  A well-established school offering excellent a...  \n",
            "5  A progressive institution focusing on holistic...  \n",
            "6  Known for integrating technology with educatio...  \n",
            "7  One of the oldest schools in Madurai, with a s...  \n",
            "8  A CBSE school providing modern education with ...  \n",
            "9  A well-known residential school providing qual...  \n"
          ]
        }
      ]
    },
    {
      "cell_type": "code",
      "source": [
        "def get_content_based_recommendations(school_name, school_df, n_recommendations=3):\n",
        "\n",
        "    tfidf = TfidfVectorizer(stop_words='english')\n",
        "    tfidf_matrix = tfidf.fit_transform(school_df['descriptions'])\n",
        "    #Find similarity\n",
        "    cosine_sim = cosine_similarity(tfidf_matrix, tfidf_matrix)\n",
        "\n",
        "    cosine_sim_df = pd.DataFrame(cosine_sim, index=school_df['names'], columns=school_df['names'])\n",
        "\n",
        "    sim_scores = cosine_sim_df[school_name].sort_values(ascending=False)\n",
        "    similar_school = sim_scores[sim_scores.index != school_name].head(n_recommendations)\n",
        "    return similar_school"
      ],
      "metadata": {
        "id": "xw52dllZM2Ym"
      },
      "execution_count": 5,
      "outputs": []
    },
    {
      "cell_type": "code",
      "source": [
        "school_to_recommend = 'Jain Vidyaashram CBSE School'\n",
        "recommendations = get_content_based_recommendations(school_to_recommend, school_df)\n",
        "print(f\"Recommendations for '{school_to_recommend}':\")\n",
        "print(recommendations)"
      ],
      "metadata": {
        "colab": {
          "base_uri": "https://localhost:8080/"
        },
        "id": "lYjVSrp5NH-O",
        "outputId": "dab9d618-f70c-4846-df6b-a89b502e0512"
      },
      "execution_count": 8,
      "outputs": [
        {
          "output_type": "stream",
          "name": "stdout",
          "text": [
            "Recommendations for 'Jain Vidyaashram CBSE School':\n",
            "names\n",
            "Idhayam Rajendran Residential School         0.238859\n",
            "Kendriya Vidyalaya, Madurai                  0.185086\n",
            "TVS Matriculation Higher Secondary School    0.062519\n",
            "Name: Jain Vidyaashram CBSE School, dtype: float64\n"
          ]
        }
      ]
    }
  ]
}