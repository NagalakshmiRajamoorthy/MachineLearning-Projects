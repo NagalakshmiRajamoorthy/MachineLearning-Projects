{
  "nbformat": 4,
  "nbformat_minor": 0,
  "metadata": {
    "colab": {
      "provenance": []
    },
    "kernelspec": {
      "name": "python3",
      "display_name": "Python 3"
    },
    "language_info": {
      "name": "python"
    }
  },
  "cells": [
    {
      "cell_type": "code",
      "execution_count": 1,
      "metadata": {
        "id": "TN6Ai0yLKJ2P"
      },
      "outputs": [],
      "source": [
        "import pandas as pd\n",
        "from sklearn.feature_extraction.text import TfidfVectorizer\n",
        "from sklearn.metrics.pairwise import cosine_similarity\n",
        "# Sample academy dataset\n",
        "theatre_data = {\n",
        " \"names\": [\n",
        "    \"Vetri Cinemas\",\n",
        "    \"INOX Vishaal De Mall\",\n",
        "    \"Jazz Cinemas\",\n",
        "    \"Ambiga Cinemas\",\n",
        "    \"CinePriya Cinemas\",\n",
        "    \"Mani Impala Theatre\",\n",
        "    \"Balaganesh Theatre\",\n",
        "    \"Tamil Jaya Cinemas\",\n",
        "    \"Simmakkal New Theatre\",\n",
        "    \"Meenakshi Cinemas\"\n",
        "  ],\n",
        "  \"descriptions\": [\n",
        "    \"A popular theatre known for its high-quality visuals and sound, providing a great movie experience.\",\n",
        "    \"A premium multiplex with modern seating, excellent sound, and a comfortable ambience.\",\n",
        "    \"A well-maintained cinema offering a high-definition movie experience with superior sound quality.\",\n",
        "    \"A well-established theatre, popular among locals for its affordability and good movie screening.\",\n",
        "    \"A budget-friendly theatre with good seating arrangements and decent sound quality.\",\n",
        "    \"One of the oldest and most renowned theatres in Madurai, known for its large screen and traditional charm.\",\n",
        "    \"A comfortable cinema hall with good projection and sound systems, attracting a loyal audience.\",\n",
        "    \"A well-known theatre screening mostly Tamil movies, providing an enjoyable experience for regional cinema lovers.\",\n",
        "    \"A popular choice for watching both mainstream and regional movies with a decent sound system.\",\n",
        "    \"A simple yet comfortable theatre offering an affordable and good movie-watching experience.\"\n",
        "  ]\n",
        "}"
      ]
    },
    {
      "cell_type": "code",
      "source": [
        "# Create a DataFrame\n",
        "theatre_df = pd.DataFrame(theatre_data)\n",
        "print(theatre_df)"
      ],
      "metadata": {
        "colab": {
          "base_uri": "https://localhost:8080/"
        },
        "id": "BPiP0KPJKnR3",
        "outputId": "2caecc6f-eb2c-45e2-9e57-d756f9f89d70"
      },
      "execution_count": 2,
      "outputs": [
        {
          "output_type": "stream",
          "name": "stdout",
          "text": [
            "                   names                                       descriptions\n",
            "0          Vetri Cinemas  A popular theatre known for its high-quality v...\n",
            "1   INOX Vishaal De Mall  A premium multiplex with modern seating, excel...\n",
            "2           Jazz Cinemas  A well-maintained cinema offering a high-defin...\n",
            "3         Ambiga Cinemas  A well-established theatre, popular among loca...\n",
            "4      CinePriya Cinemas  A budget-friendly theatre with good seating ar...\n",
            "5    Mani Impala Theatre  One of the oldest and most renowned theatres i...\n",
            "6     Balaganesh Theatre  A comfortable cinema hall with good projection...\n",
            "7     Tamil Jaya Cinemas  A well-known theatre screening mostly Tamil mo...\n",
            "8  Simmakkal New Theatre  A popular choice for watching both mainstream ...\n",
            "9      Meenakshi Cinemas  A simple yet comfortable theatre offering an a...\n"
          ]
        }
      ]
    },
    {
      "cell_type": "code",
      "source": [
        "def get_content_based_recommendations(theatre_name, theatre_df, n_recommendations=3):\n",
        "\n",
        "    tfidf = TfidfVectorizer(stop_words='english')\n",
        "    tfidf_matrix = tfidf.fit_transform(theatre_df['descriptions'])\n",
        "    #Find similarity\n",
        "    cosine_sim = cosine_similarity(tfidf_matrix, tfidf_matrix)\n",
        "\n",
        "    cosine_sim_df = pd.DataFrame(cosine_sim, index=theatre_df['names'], columns=theatre_df['names'])\n",
        "\n",
        "    sim_scores = cosine_sim_df[theatre_name].sort_values(ascending=False)\n",
        "    similar_theatre = sim_scores[sim_scores.index != theatre_name].head(n_recommendations)\n",
        "    return similar_theatre"
      ],
      "metadata": {
        "id": "iY3OZEPMKu75"
      },
      "execution_count": 4,
      "outputs": []
    },
    {
      "cell_type": "code",
      "source": [
        "theatre_to_recommend = 'Tamil Jaya Cinemas'\n",
        "recommendations = get_content_based_recommendations(theatre_to_recommend, theatre_df)\n",
        "print(f\"Recommendations for '{theatre_to_recommend}':\")\n",
        "print(recommendations)"
      ],
      "metadata": {
        "colab": {
          "base_uri": "https://localhost:8080/"
        },
        "id": "czqikNPlLEor",
        "outputId": "b5848566-b5cc-453f-c347-807a3c5d42fd"
      },
      "execution_count": 7,
      "outputs": [
        {
          "output_type": "stream",
          "name": "stdout",
          "text": [
            "Recommendations for 'Tamil Jaya Cinemas':\n",
            "names\n",
            "Vetri Cinemas            0.287705\n",
            "Simmakkal New Theatre    0.216338\n",
            "Ambiga Cinemas           0.164267\n",
            "Name: Tamil Jaya Cinemas, dtype: float64\n"
          ]
        }
      ]
    }
  ]
}