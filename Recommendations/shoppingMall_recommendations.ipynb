{
  "nbformat": 4,
  "nbformat_minor": 0,
  "metadata": {
    "colab": {
      "provenance": []
    },
    "kernelspec": {
      "name": "python3",
      "display_name": "Python 3"
    },
    "language_info": {
      "name": "python"
    }
  },
  "cells": [
    {
      "cell_type": "code",
      "execution_count": 1,
      "metadata": {
        "id": "ar8qj_1qv-vu"
      },
      "outputs": [],
      "source": [
        "import pandas as pd\n",
        "from sklearn.feature_extraction.text import TfidfVectorizer\n",
        "from sklearn.metrics.pairwise import cosine_similarity\n",
        "# Sample movie dataset\n",
        "shopping_mall_data = {\n",
        "  \"names\": [\n",
        "    \"Vishaal de Mal\",\n",
        "    \"Milan’em Mall\",\n",
        "    \"The Chennai Silks Mall\",\n",
        "    \"Pothys Hyper\",\n",
        "    \"Vivo Mall\",\n",
        "    \"Preethi Palace Shopping Mall\",\n",
        "    \"Rajmahal Silks Mall\",\n",
        "    \"Reliance Mall\",\n",
        "    \"FM Arcade\",\n",
        "    \"Madurai Mart\"\n",
        "  ],\n",
        "  \"descriptions\": [\n",
        "    \"One of the largest malls in Madurai with shopping, food, and entertainment.\",\n",
        "    \"A popular shopping and entertainment destination.\",\n",
        "    \"Famous for clothing and textiles.\",\n",
        "    \"A large store with apparel, accessories, and home essentials.\",\n",
        "    \"A growing shopping and lifestyle destination.\",\n",
        "    \"Known for its variety of shops and eateries.\",\n",
        "    \"Ideal for silk sarees and ethnic wear.\",\n",
        "    \"Offers a range of products, including groceries and fashion.\",\n",
        "    \"A shopping complex with fashion, accessories, and dining.\",\n",
        "    \"A local shopping hub with diverse stores.\"\n",
        "  ]\n",
        "}"
      ]
    },
    {
      "cell_type": "code",
      "source": [
        "# Create a DataFrame\n",
        "shopping_mall_df = pd.DataFrame(shopping_mall_data)\n",
        "print(shopping_mall_df)"
      ],
      "metadata": {
        "colab": {
          "base_uri": "https://localhost:8080/"
        },
        "id": "lutWxbsbSMjK",
        "outputId": "d2d6f03b-26af-4034-8c9d-dc7c95411d27"
      },
      "execution_count": 2,
      "outputs": [
        {
          "output_type": "stream",
          "name": "stdout",
          "text": [
            "                          names  \\\n",
            "0                Vishaal de Mal   \n",
            "1                 Milan’em Mall   \n",
            "2        The Chennai Silks Mall   \n",
            "3                  Pothys Hyper   \n",
            "4                     Vivo Mall   \n",
            "5  Preethi Palace Shopping Mall   \n",
            "6           Rajmahal Silks Mall   \n",
            "7                 Reliance Mall   \n",
            "8                     FM Arcade   \n",
            "9                  Madurai Mart   \n",
            "\n",
            "                                        descriptions  \n",
            "0  One of the largest malls in Madurai with shopp...  \n",
            "1  A popular shopping and entertainment destination.  \n",
            "2                  Famous for clothing and textiles.  \n",
            "3  A large store with apparel, accessories, and h...  \n",
            "4      A growing shopping and lifestyle destination.  \n",
            "5       Known for its variety of shops and eateries.  \n",
            "6             Ideal for silk sarees and ethnic wear.  \n",
            "7  Offers a range of products, including grocerie...  \n",
            "8  A shopping complex with fashion, accessories, ...  \n",
            "9          A local shopping hub with diverse stores.  \n"
          ]
        }
      ]
    },
    {
      "cell_type": "code",
      "source": [
        "def get_content_based_recommendations(mall_name, shopping_mall_df, n_recommendations=3):\n",
        "    #LEO , ACTION ADVENTURE, 2\n",
        "    tfidf = TfidfVectorizer(stop_words='english')\n",
        "    tfidf_matrix = tfidf.fit_transform(shopping_mall_df['descriptions'])\n",
        "    #ACTION,ADVENTURE,===> ACTION, ADVENTURE\n",
        "    cosine_sim = cosine_similarity(tfidf_matrix, tfidf_matrix)\n",
        "    #ACTION=====>RRR,Irumbukottaimurattusingam\n",
        "    cosine_sim_df = pd.DataFrame(cosine_sim, index=shopping_mall_df['names'], columns=shopping_mall_df['names'])\n",
        "\n",
        "    sim_scores = cosine_sim_df[mall_name].sort_values(ascending=False)\n",
        "    similar_products = sim_scores[sim_scores.index != mall_name].head(n_recommendations)\n",
        "    return similar_products"
      ],
      "metadata": {
        "id": "Bfw9kMHgScjR"
      },
      "execution_count": 5,
      "outputs": []
    },
    {
      "cell_type": "code",
      "source": [
        "mall_to_recommend = 'Reliance Mall'\n",
        "recommendations = get_content_based_recommendations(mall_to_recommend, shopping_mall_df)\n",
        "print(f\"Recommendations for '{mall_to_recommend}':\")\n",
        "print(recommendations)"
      ],
      "metadata": {
        "colab": {
          "base_uri": "https://localhost:8080/"
        },
        "id": "3_TzmSacTDQS",
        "outputId": "33f4fb28-89dd-49c2-d40b-4152d1ff23ac"
      },
      "execution_count": 8,
      "outputs": [
        {
          "output_type": "stream",
          "name": "stdout",
          "text": [
            "Recommendations for 'Reliance Mall':\n",
            "names\n",
            "FM Arcade         0.15501\n",
            "Vishaal de Mal    0.00000\n",
            "Milan’em Mall     0.00000\n",
            "Name: Reliance Mall, dtype: float64\n"
          ]
        }
      ]
    }
  ]
}