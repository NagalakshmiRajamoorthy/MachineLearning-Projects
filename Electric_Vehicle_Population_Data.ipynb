{
 "cells": [
  {
   "cell_type": "code",
   "execution_count": 3,
   "metadata": {},
   "outputs": [
    {
     "name": "stdout",
     "output_type": "stream",
     "text": [
      "        VIN (1-10)     County              City State  Postal Code  \\\n",
      "0       1C4JJXP66P     Kitsap           Poulsbo    WA      98370.0   \n",
      "1       1G1FX6S08K  Snohomish      Lake Stevens    WA      98258.0   \n",
      "2       WBY1Z2C58F       King           Seattle    WA      98116.0   \n",
      "3       5YJ3E1EBXK       King           Seattle    WA      98178.0   \n",
      "4       5YJSA1V24F     Yakima             Selah    WA      98942.0   \n",
      "...            ...        ...               ...   ...          ...   \n",
      "223990  7SAYGDEE4R     Pierce          Puyallup    WA      98374.0   \n",
      "223991  WBY8P2C00M  Snohomish      Lake Stevens    WA      98258.0   \n",
      "223992  JN1AZ0CP3B     Pierce  University Place    WA      98466.0   \n",
      "223993  5YJ3E1EA2R     Pierce          Puyallup    WA      98374.0   \n",
      "223994  WBY8P8C57K       King       Woodinville    WA      98072.0   \n",
      "\n",
      "        Model Year       Make  \\\n",
      "0             2023       JEEP   \n",
      "1             2019  CHEVROLET   \n",
      "2             2015        BMW   \n",
      "3             2019      TESLA   \n",
      "4             2015      TESLA   \n",
      "...            ...        ...   \n",
      "223990        2024      TESLA   \n",
      "223991        2021        BMW   \n",
      "223992        2011     NISSAN   \n",
      "223993        2024      TESLA   \n",
      "223994        2019        BMW   \n",
      "\n",
      "        Clean Alternative Fuel Vehicle (CAFV) Eligibility  Electric Range  \\\n",
      "0                   Not eligible due to low battery range            21.0   \n",
      "1                 Clean Alternative Fuel Vehicle Eligible           238.0   \n",
      "2                 Clean Alternative Fuel Vehicle Eligible            81.0   \n",
      "3                 Clean Alternative Fuel Vehicle Eligible           220.0   \n",
      "4                 Clean Alternative Fuel Vehicle Eligible           208.0   \n",
      "...                                                   ...             ...   \n",
      "223990  Eligibility unknown as battery range has not b...             0.0   \n",
      "223991  Eligibility unknown as battery range has not b...             0.0   \n",
      "223992            Clean Alternative Fuel Vehicle Eligible            73.0   \n",
      "223993  Eligibility unknown as battery range has not b...             0.0   \n",
      "223994            Clean Alternative Fuel Vehicle Eligible           126.0   \n",
      "\n",
      "        Base MSRP  Legislative District  DOL Vehicle ID  2020 Census Tract  \n",
      "0             0.0                  23.0       258127145       5.303509e+10  \n",
      "1             0.0                  44.0         4735426       5.306105e+10  \n",
      "2             0.0                  34.0       272697666       5.303301e+10  \n",
      "3             0.0                  37.0       477309682       5.303301e+10  \n",
      "4             0.0                  15.0       258112970       5.307700e+10  \n",
      "...           ...                   ...             ...                ...  \n",
      "223990        0.0                   2.0       264662359       5.305307e+10  \n",
      "223991        0.0                  44.0       157728168       5.306105e+10  \n",
      "223992        0.0                  28.0       261733433       5.305307e+10  \n",
      "223993        0.0                  25.0       275283487       5.305307e+10  \n",
      "223994        0.0                  45.0       267288801       5.303303e+10  \n",
      "\n",
      "[223995 rows x 13 columns]\n"
     ]
    }
   ],
   "source": [
    "#data loading\n",
    "import pandas as pd\n",
    "a=pd.read_csv(\"./DATASETS/Electric_Vehicle_Population_Data.csv\")\n",
    "print(a)"
   ]
  },
  {
   "cell_type": "code",
   "execution_count": 4,
   "metadata": {},
   "outputs": [
    {
     "name": "stdout",
     "output_type": "stream",
     "text": [
      "   VIN (1-10)     County          City State  Postal Code  Model Year  \\\n",
      "0  1C4JJXP66P     Kitsap       Poulsbo    WA      98370.0        2023   \n",
      "1  1G1FX6S08K  Snohomish  Lake Stevens    WA      98258.0        2019   \n",
      "2  WBY1Z2C58F       King       Seattle    WA      98116.0        2015   \n",
      "3  5YJ3E1EBXK       King       Seattle    WA      98178.0        2019   \n",
      "4  5YJSA1V24F     Yakima         Selah    WA      98942.0        2015   \n",
      "\n",
      "        Make Clean Alternative Fuel Vehicle (CAFV) Eligibility  \\\n",
      "0       JEEP             Not eligible due to low battery range   \n",
      "1  CHEVROLET           Clean Alternative Fuel Vehicle Eligible   \n",
      "2        BMW           Clean Alternative Fuel Vehicle Eligible   \n",
      "3      TESLA           Clean Alternative Fuel Vehicle Eligible   \n",
      "4      TESLA           Clean Alternative Fuel Vehicle Eligible   \n",
      "\n",
      "   Electric Range  Base MSRP  Legislative District  DOL Vehicle ID  \\\n",
      "0            21.0        0.0                  23.0       258127145   \n",
      "1           238.0        0.0                  44.0         4735426   \n",
      "2            81.0        0.0                  34.0       272697666   \n",
      "3           220.0        0.0                  37.0       477309682   \n",
      "4           208.0        0.0                  15.0       258112970   \n",
      "\n",
      "   2020 Census Tract  \n",
      "0       5.303509e+10  \n",
      "1       5.306105e+10  \n",
      "2       5.303301e+10  \n",
      "3       5.303301e+10  \n",
      "4       5.307700e+10  \n"
     ]
    }
   ],
   "source": [
    "print(a.head())"
   ]
  },
  {
   "cell_type": "code",
   "execution_count": 5,
   "metadata": {},
   "outputs": [
    {
     "name": "stdout",
     "output_type": "stream",
     "text": [
      "        VIN (1-10)     County              City State  Postal Code  \\\n",
      "223990  7SAYGDEE4R     Pierce          Puyallup    WA      98374.0   \n",
      "223991  WBY8P2C00M  Snohomish      Lake Stevens    WA      98258.0   \n",
      "223992  JN1AZ0CP3B     Pierce  University Place    WA      98466.0   \n",
      "223993  5YJ3E1EA2R     Pierce          Puyallup    WA      98374.0   \n",
      "223994  WBY8P8C57K       King       Woodinville    WA      98072.0   \n",
      "\n",
      "        Model Year    Make  Clean Alternative Fuel Vehicle (CAFV) Eligibility  \\\n",
      "223990        2024   TESLA  Eligibility unknown as battery range has not b...   \n",
      "223991        2021     BMW  Eligibility unknown as battery range has not b...   \n",
      "223992        2011  NISSAN            Clean Alternative Fuel Vehicle Eligible   \n",
      "223993        2024   TESLA  Eligibility unknown as battery range has not b...   \n",
      "223994        2019     BMW            Clean Alternative Fuel Vehicle Eligible   \n",
      "\n",
      "        Electric Range  Base MSRP  Legislative District  DOL Vehicle ID  \\\n",
      "223990             0.0        0.0                   2.0       264662359   \n",
      "223991             0.0        0.0                  44.0       157728168   \n",
      "223992            73.0        0.0                  28.0       261733433   \n",
      "223993             0.0        0.0                  25.0       275283487   \n",
      "223994           126.0        0.0                  45.0       267288801   \n",
      "\n",
      "        2020 Census Tract  \n",
      "223990       5.305307e+10  \n",
      "223991       5.306105e+10  \n",
      "223992       5.305307e+10  \n",
      "223993       5.305307e+10  \n",
      "223994       5.303303e+10  \n"
     ]
    }
   ],
   "source": [
    "print(a.tail())"
   ]
  },
  {
   "cell_type": "code",
   "execution_count": 6,
   "metadata": {},
   "outputs": [
    {
     "data": {
      "text/plain": [
       "VIN (1-10)                                             0\n",
       "County                                                 3\n",
       "City                                                   3\n",
       "State                                                  0\n",
       "Postal Code                                            3\n",
       "Model Year                                             0\n",
       "Make                                                   0\n",
       "Clean Alternative Fuel Vehicle (CAFV) Eligibility      0\n",
       "Electric Range                                        18\n",
       "Base MSRP                                             18\n",
       "Legislative District                                 474\n",
       "DOL Vehicle ID                                         0\n",
       "2020 Census Tract                                      3\n",
       "dtype: int64"
      ]
     },
     "execution_count": 6,
     "metadata": {},
     "output_type": "execute_result"
    }
   ],
   "source": [
    "\n",
    "##Checking for null values\n",
    "a.isna().sum()"
   ]
  },
  {
   "cell_type": "code",
   "execution_count": 7,
   "metadata": {},
   "outputs": [],
   "source": [
    "a[\"County\"]=a[\"County\"].fillna(\"0\")\n",
    "a[\"City\"]=a[\"City\"].fillna(\"0\")\n",
    "a[\"Postal Code\"]=a[\"Postal Code\"].fillna(0)\n",
    "a[\"Electric Range\"]=a[\"Electric Range\"].fillna(0)\n",
    "a[\"Base MSRP\"]=a[\"Base MSRP\"].fillna(0)\n",
    "a[\"Legislative District\"]=a[\"Legislative District\"].fillna(0)\n",
    "\n",
    "a[\"2020 Census Tract\"]=a[\"2020 Census Tract\"].fillna(0)\n"
   ]
  },
  {
   "cell_type": "code",
   "execution_count": 8,
   "metadata": {},
   "outputs": [
    {
     "data": {
      "text/plain": [
       "[<matplotlib.lines.Line2D at 0x2f15fc1e110>]"
      ]
     },
     "execution_count": 8,
     "metadata": {},
     "output_type": "execute_result"
    },
    {
     "data": {
      "image/png": "[encoded data removed]",
      "text/plain": [
       "<Figure size 640x480 with 1 Axes>"
      ]
     },
     "metadata": {},
     "output_type": "display_data"
    }
   ],
   "source": [
    "from matplotlib import pyplot as plt\n",
    "plt.plot(a[\"City\"],a[\"2020 Census Tract\"])"
   ]
  },
  {
   "cell_type": "code",
   "execution_count": 9,
   "metadata": {},
   "outputs": [
    {
     "data": {
      "text/plain": [
       "<BarContainer object of 223995 artists>"
      ]
     },
     "execution_count": 9,
     "metadata": {},
     "output_type": "execute_result"
    },
    {
     "data": {
      "image/png": "[encoded data removed]",
      "text/plain": [
       "<Figure size 640x480 with 1 Axes>"
      ]
     },
     "metadata": {},
     "output_type": "display_data"
    }
   ],
   "source": [
    "plt.bar(a[\"Model Year\"],a[\"2020 Census Tract\"])"
   ]
  },
  {
   "cell_type": "code",
   "execution_count": 10,
   "metadata": {},
   "outputs": [
    {
     "data": {
      "text/plain": [
       "<matplotlib.collections.PathCollection at 0x2f1f9923b90>"
      ]
     },
     "execution_count": 10,
     "metadata": {},
     "output_type": "execute_result"
    },
    {
     "data": {
      "image/png": "[encoded data removed]",
      "text/plain": [
       "<Figure size 640x480 with 1 Axes>"
      ]
     },
     "metadata": {},
     "output_type": "display_data"
    }
   ],
   "source": [
    "plt.scatter(a[\"State\"], a[\"2020 Census Tract\"])"
   ]
  },
  {
   "cell_type": "code",
   "execution_count": 11,
   "metadata": {},
   "outputs": [
    {
     "name": "stdout",
     "output_type": "stream",
     "text": [
      "        VIN (1-10)  County  City  State  Postal Code  Model Year  Make  \\\n",
      "0               31      92   554     45      98370.0        2023    19   \n",
      "1              863     175   353     45      98258.0        2019     8   \n",
      "2            10470      90   632     45      98116.0        2015     5   \n",
      "3             4165      90   632     45      98178.0        2019    39   \n",
      "4             4749     205   637     45      98942.0        2015    39   \n",
      "...            ...     ...   ...    ...          ...         ...   ...   \n",
      "223990        5882     142   565     45      98374.0        2024    39   \n",
      "223991       10813     175   353     45      98258.0        2021     5   \n",
      "223992        6321     142   726     45      98466.0        2011    31   \n",
      "223993        4010     142   565     45      98374.0        2024    39   \n",
      "223994       10910      90   780     45      98072.0        2019     5   \n",
      "\n",
      "        Clean Alternative Fuel Vehicle (CAFV) Eligibility  Electric Range  \\\n",
      "0                                                       2            21.0   \n",
      "1                                                       0           238.0   \n",
      "2                                                       0            81.0   \n",
      "3                                                       0           220.0   \n",
      "4                                                       0           208.0   \n",
      "...                                                   ...             ...   \n",
      "223990                                                  1             0.0   \n",
      "223991                                                  1             0.0   \n",
      "223992                                                  0            73.0   \n",
      "223993                                                  1             0.0   \n",
      "223994                                                  0           126.0   \n",
      "\n",
      "        Base MSRP  Legislative District  DOL Vehicle ID  2020 Census Tract  \n",
      "0             0.0                  23.0       258127145       5.303509e+10  \n",
      "1             0.0                  44.0         4735426       5.306105e+10  \n",
      "2             0.0                  34.0       272697666       5.303301e+10  \n",
      "3             0.0                  37.0       477309682       5.303301e+10  \n",
      "4             0.0                  15.0       258112970       5.307700e+10  \n",
      "...           ...                   ...             ...                ...  \n",
      "223990        0.0                   2.0       264662359       5.305307e+10  \n",
      "223991        0.0                  44.0       157728168       5.306105e+10  \n",
      "223992        0.0                  28.0       261733433       5.305307e+10  \n",
      "223993        0.0                  25.0       275283487       5.305307e+10  \n",
      "223994        0.0                  45.0       267288801       5.303303e+10  \n",
      "\n",
      "[223995 rows x 13 columns]\n"
     ]
    }
   ],
   "source": [
    "from sklearn.preprocessing import LabelEncoder\n",
    "b=LabelEncoder()\n",
    "\n",
    "a[\"VIN (1-10)\"]=b.fit_transform(a[\"VIN (1-10)\"])\n",
    "a[\"County\"]=b.fit_transform(a[\"County\"])\n",
    "a[\"City\"]=b.fit_transform(a[\"City\"])\n",
    "a[\"State\"]=b.fit_transform(a[\"State\"])\n",
    "a[\"Make\"]=b.fit_transform(a[\"Make\"])\n",
    "\n",
    "\n",
    "a[\"Clean Alternative Fuel Vehicle (CAFV) Eligibility\"]=b.fit_transform(a[\"Clean Alternative Fuel Vehicle (CAFV) Eligibility\"])\n",
    "\n",
    "\n",
    "print(a)"
   ]
  },
  {
   "cell_type": "code",
   "execution_count": 12,
   "metadata": {},
   "outputs": [
    {
     "name": "stdout",
     "output_type": "stream",
     "text": [
      "        VIN (1-10)  County  City  State  Postal Code  Model Year  Make  \\\n",
      "0               31      92   554     45      98370.0        2023    19   \n",
      "1              863     175   353     45      98258.0        2019     8   \n",
      "2            10470      90   632     45      98116.0        2015     5   \n",
      "3             4165      90   632     45      98178.0        2019    39   \n",
      "4             4749     205   637     45      98942.0        2015    39   \n",
      "...            ...     ...   ...    ...          ...         ...   ...   \n",
      "223990        5882     142   565     45      98374.0        2024    39   \n",
      "223991       10813     175   353     45      98258.0        2021     5   \n",
      "223992        6321     142   726     45      98466.0        2011    31   \n",
      "223993        4010     142   565     45      98374.0        2024    39   \n",
      "223994       10910      90   780     45      98072.0        2019     5   \n",
      "\n",
      "        Clean Alternative Fuel Vehicle (CAFV) Eligibility  Electric Range  \\\n",
      "0                                                       2            21.0   \n",
      "1                                                       0           238.0   \n",
      "2                                                       0            81.0   \n",
      "3                                                       0           220.0   \n",
      "4                                                       0           208.0   \n",
      "...                                                   ...             ...   \n",
      "223990                                                  1             0.0   \n",
      "223991                                                  1             0.0   \n",
      "223992                                                  0            73.0   \n",
      "223993                                                  1             0.0   \n",
      "223994                                                  0           126.0   \n",
      "\n",
      "        Base MSRP  Legislative District  DOL Vehicle ID  \n",
      "0             0.0                  23.0       258127145  \n",
      "1             0.0                  44.0         4735426  \n",
      "2             0.0                  34.0       272697666  \n",
      "3             0.0                  37.0       477309682  \n",
      "4             0.0                  15.0       258112970  \n",
      "...           ...                   ...             ...  \n",
      "223990        0.0                   2.0       264662359  \n",
      "223991        0.0                  44.0       157728168  \n",
      "223992        0.0                  28.0       261733433  \n",
      "223993        0.0                  25.0       275283487  \n",
      "223994        0.0                  45.0       267288801  \n",
      "\n",
      "[223995 rows x 12 columns]\n"
     ]
    }
   ],
   "source": [
    "#data split\n",
    "x=a.iloc[:,:-1]\n",
    "y=a[\"2020 Census Tract\"]\n",
    "print(x)"
   ]
  },
  {
   "cell_type": "code",
   "execution_count": 13,
   "metadata": {},
   "outputs": [
    {
     "name": "stdout",
     "output_type": "stream",
     "text": [
      "0         5.303509e+10\n",
      "1         5.306105e+10\n",
      "2         5.303301e+10\n",
      "3         5.303301e+10\n",
      "4         5.307700e+10\n",
      "              ...     \n",
      "223990    5.305307e+10\n",
      "223991    5.306105e+10\n",
      "223992    5.305307e+10\n",
      "223993    5.305307e+10\n",
      "223994    5.303303e+10\n",
      "Name: 2020 Census Tract, Length: 223995, dtype: float64\n"
     ]
    }
   ],
   "source": [
    "print(y)"
   ]
  },
  {
   "cell_type": "code",
   "execution_count": 15,
   "metadata": {},
   "outputs": [],
   "source": [
    "from sklearn.model_selection import train_test_split\n",
    "x_train,x_test,y_train,y_test=train_test_split(x,y,test_size=0.2)"
   ]
  },
  {
   "cell_type": "code",
   "execution_count": 16,
   "metadata": {},
   "outputs": [
    {
     "name": "stdout",
     "output_type": "stream",
     "text": [
      "        VIN (1-10)  County  City  State  Postal Code  Model Year  Make  \\\n",
      "69094        10938      37   733     45      98683.0        2017    27   \n",
      "127255         389     142   664     45      98387.0        2023    13   \n",
      "178829        6890      30   102     45      98815.0        2024    41   \n",
      "93218        10865      90   632     45      98112.0        2019     5   \n",
      "199461        4224      90    65     45      98011.0        2024    39   \n",
      "...            ...     ...   ...    ...          ...         ...   ...   \n",
      "99555         1736      90   632     45      98112.0        2024     7   \n",
      "28924         2325      90   717     45      98188.0        2023     9   \n",
      "181519        4044     175   219     45      98201.0        2022    39   \n",
      "53657          897     188   499     45      98506.0        2022     8   \n",
      "115900        5542      90   341     45      98033.0        2023    35   \n",
      "\n",
      "        Clean Alternative Fuel Vehicle (CAFV) Eligibility  Electric Range  \\\n",
      "69094                                                   2            12.0   \n",
      "127255                                                  0            37.0   \n",
      "178829                                                  0            42.0   \n",
      "93218                                                   0           126.0   \n",
      "199461                                                  1             0.0   \n",
      "...                                                   ...             ...   \n",
      "99555                                                   1             0.0   \n",
      "28924                                                   0            32.0   \n",
      "181519                                                  1             0.0   \n",
      "53657                                                   1             0.0   \n",
      "115900                                                  1             0.0   \n",
      "\n",
      "        Base MSRP  Legislative District  DOL Vehicle ID  \n",
      "69094         0.0                  17.0       216893029  \n",
      "127255        0.0                  29.0       238924080  \n",
      "178829        0.0                  12.0       262320985  \n",
      "93218         0.0                  37.0       176310116  \n",
      "199461        0.0                   1.0       273032917  \n",
      "...           ...                   ...             ...  \n",
      "99555         0.0                  43.0       272306352  \n",
      "28924         0.0                  11.0       244712513  \n",
      "181519        0.0                  38.0       200675569  \n",
      "53657         0.0                  22.0       209997175  \n",
      "115900        0.0                  45.0       260521320  \n",
      "\n",
      "[179196 rows x 12 columns]\n"
     ]
    }
   ],
   "source": [
    "print(x_train)"
   ]
  },
  {
   "cell_type": "code",
   "execution_count": 17,
   "metadata": {},
   "outputs": [
    {
     "name": "stdout",
     "output_type": "stream",
     "text": [
      "69094     5.301104e+10\n",
      "127255    5.305307e+10\n",
      "178829    5.300796e+10\n",
      "93218     5.303301e+10\n",
      "199461    5.303302e+10\n",
      "              ...     \n",
      "99555     5.303301e+10\n",
      "28924     5.303303e+10\n",
      "181519    5.306104e+10\n",
      "53657     5.306701e+10\n",
      "115900    5.303302e+10\n",
      "Name: 2020 Census Tract, Length: 179196, dtype: float64\n"
     ]
    }
   ],
   "source": [
    "print(y_train)"
   ]
  },
  {
   "cell_type": "code",
   "execution_count": 18,
   "metadata": {},
   "outputs": [
    {
     "name": "stdout",
     "output_type": "stream",
     "text": [
      "        VIN (1-10)  County  City  State  Postal Code  Model Year  Make  \\\n",
      "54386         4053      90   631     45      98148.0        2022    39   \n",
      "43279        10509      90   632     45      98144.0        2015     5   \n",
      "41142         5928      90   632     45      98119.0        2022    39   \n",
      "13072         6320      37   733     45      98663.0        2012    31   \n",
      "171530        4307     142   565     45      98375.0        2013    39   \n",
      "...            ...     ...   ...    ...          ...         ...   ...   \n",
      "117496        4106      90    48     45      98004.0        2024    39   \n",
      "161960        1806     201    49     45      98226.0        2020    31   \n",
      "177000        7106     142   263     45      98335.0        2024    17   \n",
      "102654        1891     175   653     45      98290.0        2018    31   \n",
      "158316        3990     175   219     45      98203.0        2022    39   \n",
      "\n",
      "        Clean Alternative Fuel Vehicle (CAFV) Eligibility  Electric Range  \\\n",
      "54386                                                   1             0.0   \n",
      "43279                                                   0            72.0   \n",
      "41142                                                   1             0.0   \n",
      "13072                                                   0            73.0   \n",
      "171530                                                  0           208.0   \n",
      "...                                                   ...             ...   \n",
      "117496                                                  1             0.0   \n",
      "161960                                                  0           149.0   \n",
      "177000                                                  0            33.0   \n",
      "102654                                                  0           151.0   \n",
      "158316                                                  1             0.0   \n",
      "\n",
      "        Base MSRP  Legislative District  DOL Vehicle ID  \n",
      "54386         0.0                  33.0       221011241  \n",
      "43279         0.0                  37.0       189565113  \n",
      "41142         0.0                  36.0       207232091  \n",
      "13072         0.0                  49.0       264718275  \n",
      "171530    69900.0                   2.0       214848448  \n",
      "...           ...                   ...             ...  \n",
      "117496        0.0                  41.0       271821623  \n",
      "161960        0.0                  42.0       133748464  \n",
      "177000        0.0                  26.0       255038626  \n",
      "102654        0.0                  44.0       257204769  \n",
      "158316        0.0                  38.0       261864956  \n",
      "\n",
      "[44799 rows x 12 columns]\n"
     ]
    }
   ],
   "source": [
    "print(x_test)"
   ]
  },
  {
   "cell_type": "code",
   "execution_count": 19,
   "metadata": {},
   "outputs": [
    {
     "name": "stdout",
     "output_type": "stream",
     "text": [
      "54386     5.303303e+10\n",
      "43279     5.303301e+10\n",
      "41142     5.303301e+10\n",
      "13072     5.301104e+10\n",
      "171530    5.305307e+10\n",
      "              ...     \n",
      "117496    5.303302e+10\n",
      "161960    5.307300e+10\n",
      "177000    5.305307e+10\n",
      "102654    5.306105e+10\n",
      "158316    5.306104e+10\n",
      "Name: 2020 Census Tract, Length: 44799, dtype: float64\n"
     ]
    }
   ],
   "source": [
    "print(y_test)"
   ]
  },
  {
   "cell_type": "code",
   "execution_count": 23,
   "metadata": {},
   "outputs": [
    {
     "name": "stdout",
     "output_type": "stream",
     "text": [
      "[5.30313306e+10 5.30321952e+10 5.30317347e+10 ... 5.30516534e+10\n",
      " 5.30649722e+10 5.30641949e+10]\n"
     ]
    }
   ],
   "source": [
    "from sklearn.linear_model import LinearRegression\n",
    "model=LinearRegression()\n",
    "model.fit(x_train,y_train)\n",
    "ypred=model.predict(x_test)\n",
    "print(ypred)"
   ]
  },
  {
   "cell_type": "code",
   "execution_count": 29,
   "metadata": {},
   "outputs": [
    {
     "name": "stdout",
     "output_type": "stream",
     "text": [
      "[5.30313306e+10]\n"
     ]
    },
    {
     "name": "stderr",
     "output_type": "stream",
     "text": [
      "C:\\Users\\ADMIN\\AppData\\Local\\Packages\\PythonSoftwareFoundation.Python.3.11_qbz5n2kfra8p0\\LocalCache\\local-packages\\Python311\\site-packages\\sklearn\\utils\\validation.py:2739: UserWarning: X does not have valid feature names, but LinearRegression was fitted with feature names\n",
      "  warnings.warn(\n"
     ]
    }
   ],
   "source": [
    "print(model.predict([[4053,90,631,45,98148.0,2022,39,1,0.0,0.0,33.0,221011241]]))"
   ]
  },
  {
   "cell_type": "code",
   "execution_count": 30,
   "metadata": {},
   "outputs": [
    {
     "name": "stdout",
     "output_type": "stream",
     "text": [
      "[5.30330210e+10 5.30330210e+10 5.30330210e+10 ... 5.30530726e+10\n",
      " 5.30610524e+10 5.30610497e+10]\n"
     ]
    }
   ],
   "source": [
    "from sklearn.tree import DecisionTreeRegressor\n",
    "b=DecisionTreeRegressor()\n",
    "b.fit(x_train,y_train)\n",
    "ypred=b.predict(x_test)\n",
    "print(ypred)"
   ]
  },
  {
   "cell_type": "code",
   "execution_count": 31,
   "metadata": {},
   "outputs": [
    {
     "ename": "TypeError",
     "evalue": "BaseDecisionTree.predict() takes from 2 to 3 positional arguments but 13 were given",
     "output_type": "error",
     "traceback": [
      "\u001b[1;31m---------------------------------------------------------------------------\u001b[0m",
      "\u001b[1;31mTypeError\u001b[0m                                 Traceback (most recent call last)",
      "Cell \u001b[1;32mIn[31], line 1\u001b[0m\n\u001b[1;32m----> 1\u001b[0m \u001b[38;5;28mprint\u001b[39m(\u001b[43mb\u001b[49m\u001b[38;5;241;43m.\u001b[39;49m\u001b[43mpredict\u001b[49m\u001b[43m(\u001b[49m\u001b[38;5;241;43m4053\u001b[39;49m\u001b[43m,\u001b[49m\u001b[38;5;241;43m90\u001b[39;49m\u001b[43m,\u001b[49m\u001b[38;5;241;43m631\u001b[39;49m\u001b[43m,\u001b[49m\u001b[38;5;241;43m45\u001b[39;49m\u001b[43m,\u001b[49m\u001b[38;5;241;43m98148.0\u001b[39;49m\u001b[43m,\u001b[49m\u001b[38;5;241;43m2022\u001b[39;49m\u001b[43m,\u001b[49m\u001b[38;5;241;43m39\u001b[39;49m\u001b[43m,\u001b[49m\u001b[38;5;241;43m1\u001b[39;49m\u001b[43m,\u001b[49m\u001b[38;5;241;43m0.0\u001b[39;49m\u001b[43m,\u001b[49m\u001b[38;5;241;43m0.0\u001b[39;49m\u001b[43m,\u001b[49m\u001b[38;5;241;43m33.0\u001b[39;49m\u001b[43m,\u001b[49m\u001b[38;5;241;43m221011241\u001b[39;49m\u001b[43m)\u001b[49m)\n",
      "\u001b[1;31mTypeError\u001b[0m: BaseDecisionTree.predict() takes from 2 to 3 positional arguments but 13 were given"
     ]
    }
   ],
   "source": [
    "print(b.predict([[4053,90,631,45,98148.0,2022,39,1,0.0,0.0,33.0,221011241]]))"
   ]
  },
  {
   "cell_type": "code",
   "execution_count": 25,
   "metadata": {},
   "outputs": [
    {
     "name": "stdout",
     "output_type": "stream",
     "text": [
      "[5.30330178e+10 5.30330172e+10 5.30330172e+10 ... 5.30530724e+10\n",
      " 5.30610521e+10 5.30610475e+10]\n"
     ]
    }
   ],
   "source": [
    "from sklearn.ensemble import RandomForestRegressor\n",
    "b=RandomForestRegressor()\n",
    "b.fit(x_train,y_train)\n",
    "ypred=b.predict(x_test)\n",
    "print(ypred)"
   ]
  }
 ],
 "metadata": {
  "kernelspec": {
   "display_name": "Python 3",
   "language": "python",
   "name": "python3"
  },
  "language_info": {
   "codemirror_mode": {
    "name": "ipython",
    "version": 3
   },
   "file_extension": ".py",
   "mimetype": "text/x-python",
   "name": "python",
   "nbconvert_exporter": "python",
   "pygments_lexer": "ipython3",
   "version": "3.11.9"
  }
 },
 "nbformat": 4,
 "nbformat_minor": 2
}
